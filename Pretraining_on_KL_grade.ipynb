{
  "nbformat": 4,
  "nbformat_minor": 0,
  "metadata": {
    "colab": {
      "name": "Pretraining_on_KL_grade.ipynb",
      "provenance": [],
      "collapsed_sections": [],
      "machine_shape": "hm",
      "authorship_tag": "ABX9TyP6FxRGmpYQAN+w/7V5J2tW",
      "include_colab_link": true
    },
    "kernelspec": {
      "name": "python3",
      "display_name": "Python 3"
    },
    "accelerator": "GPU"
  },
  "cells": [
    {
      "cell_type": "markdown",
      "metadata": {
        "id": "view-in-github",
        "colab_type": "text"
      },
      "source": [
        "<a href=\"https://colab.research.google.com/github/udAAbu/JSL_Project/blob/main/Pretraining_on_KL_grade.ipynb\" target=\"_parent\"><img src=\"https://colab.research.google.com/assets/colab-badge.svg\" alt=\"Open In Colab\"/></a>"
      ]
    },
    {
      "cell_type": "markdown",
      "metadata": {
        "id": "QvxxkZMi3GQW"
      },
      "source": [
        "## KL_grade prediction\n",
        "- using raw images to predict **KL_grade**.\n",
        "- transfer the learned model to predict **joint space loss**.\n",
        "- expect to get more efficient training on JSL prediction and better feature learning.\n"
      ]
    },
    {
      "cell_type": "code",
      "metadata": {
        "colab": {
          "base_uri": "https://localhost:8080/"
        },
        "id": "99F3hA2n9D6R",
        "outputId": "d9523aef-7988-45a3-ec74-d7abcd4ac786"
      },
      "source": [
        "from google.colab import drive\n",
        "drive.mount('/content/drive')"
      ],
      "execution_count": 1,
      "outputs": [
        {
          "output_type": "stream",
          "text": [
            "Mounted at /content/drive\n"
          ],
          "name": "stdout"
        }
      ]
    },
    {
      "cell_type": "code",
      "metadata": {
        "id": "xSQ1qtcX9tbt",
        "colab": {
          "base_uri": "https://localhost:8080/"
        },
        "outputId": "85027279-d993-492f-b372-047e579f3aa6"
      },
      "source": [
        "from __future__ import print_function, division\n",
        "\n",
        "import torch\n",
        "import torch.nn as nn\n",
        "import torch.optim as optim\n",
        "from torch.optim import lr_scheduler\n",
        "import torchvision\n",
        "from torchvision import datasets, models, transforms\n",
        "from torch.utils.data import DataLoader, TensorDataset, Dataset, ConcatDataset\n",
        "from torch.utils.data.sampler import SubsetRandomSampler\n",
        "from torchsummary import summary\n",
        "\n",
        "import numpy as np\n",
        "import pandas as pd\n",
        "import matplotlib.pyplot as plt\n",
        "from PIL import Image\n",
        "import seaborn as sns\n",
        "import time\n",
        "import os\n",
        "import copy\n",
        "from sklearn.metrics import *\n",
        "from sklearn.model_selection import train_test_split\n",
        "\n",
        "import warnings\n",
        "warnings.simplefilter(\"ignore\")\n",
        "\n",
        "plt.ion()\n",
        "pd.set_option(\"display.max_colwidth\", None)\n",
        "\n",
        "device = torch.device(\"cuda:0\" if torch.cuda.is_available() else \"cpu\")\n",
        "device"
      ],
      "execution_count": 5,
      "outputs": [
        {
          "output_type": "execute_result",
          "data": {
            "text/plain": [
              "device(type='cuda', index=0)"
            ]
          },
          "metadata": {
            "tags": []
          },
          "execution_count": 5
        }
      ]
    },
    {
      "cell_type": "markdown",
      "metadata": {
        "id": "avIcMqOr6SSH"
      },
      "source": [
        "### Path\n",
        "\n",
        "- These paths should be changed to the paths in your google drive."
      ]
    },
    {
      "cell_type": "code",
      "metadata": {
        "id": "dNZjHxvn-XiE"
      },
      "source": [
        "# Joint space loss CSV file\n",
        "JSL_path = \"/content/drive/MyDrive/OAI_data/JSL.csv\"\n",
        "Image_dir = \"/content/drive/MyDrive/OAI_data/complete_images/\""
      ],
      "execution_count": 6,
      "outputs": []
    },
    {
      "cell_type": "code",
      "metadata": {
        "colab": {
          "base_uri": "https://localhost:8080/",
          "height": 197
        },
        "id": "VbBe9yqe-YDa",
        "outputId": "0b4174b5-576c-46f8-a004-1b81164b8ae5"
      },
      "source": [
        "JSL_data = pd.read_csv(JSL_path)\n",
        "available_images = os.listdir(Image_dir)\n",
        "\n",
        "JSL_data['Img_id'] = JSL_data.apply(lambda x: x['ID'] + '.png', axis = 1)\n",
        "JSL_data[\"Img_path\"] = JSL_data.apply(lambda x: Image_dir + x['Img_id'], axis = 1)\n",
        "\n",
        "#filter out those records without KL_grade label or without images\n",
        "table = JSL_data[(JSL_data['Img_id'].isin(available_images)) & (JSL_data['BL_KL_grade'].isna() == False)]\n",
        "table.head()"
      ],
      "execution_count": 8,
      "outputs": [
        {
          "output_type": "execute_result",
          "data": {
            "text/html": [
              "<div>\n",
              "<style scoped>\n",
              "    .dataframe tbody tr th:only-of-type {\n",
              "        vertical-align: middle;\n",
              "    }\n",
              "\n",
              "    .dataframe tbody tr th {\n",
              "        vertical-align: top;\n",
              "    }\n",
              "\n",
              "    .dataframe thead th {\n",
              "        text-align: right;\n",
              "    }\n",
              "</style>\n",
              "<table border=\"1\" class=\"dataframe\">\n",
              "  <thead>\n",
              "    <tr style=\"text-align: right;\">\n",
              "      <th></th>\n",
              "      <th>ID</th>\n",
              "      <th>Age</th>\n",
              "      <th>Sex</th>\n",
              "      <th>BMI</th>\n",
              "      <th>Race</th>\n",
              "      <th>BL_KL_grade</th>\n",
              "      <th>Knee_Injury</th>\n",
              "      <th>Alignmnet_TRIN</th>\n",
              "      <th>Alignment_degree</th>\n",
              "      <th>JSL_Prog</th>\n",
              "      <th>Img_id</th>\n",
              "      <th>Img_path</th>\n",
              "    </tr>\n",
              "  </thead>\n",
              "  <tbody>\n",
              "    <tr>\n",
              "      <th>0</th>\n",
              "      <td>9001897_1</td>\n",
              "      <td>72</td>\n",
              "      <td>1</td>\n",
              "      <td>25.9</td>\n",
              "      <td>1.0</td>\n",
              "      <td>3.0</td>\n",
              "      <td>1.0</td>\n",
              "      <td>1.0</td>\n",
              "      <td>6.0</td>\n",
              "      <td>1.0</td>\n",
              "      <td>9001897_1.png</td>\n",
              "      <td>/content/drive/MyDrive/OAI_data/complete_images/9001897_1.png</td>\n",
              "    </tr>\n",
              "    <tr>\n",
              "      <th>1</th>\n",
              "      <td>9002116_1</td>\n",
              "      <td>61</td>\n",
              "      <td>1</td>\n",
              "      <td>36.5</td>\n",
              "      <td>2.0</td>\n",
              "      <td>2.0</td>\n",
              "      <td>0.0</td>\n",
              "      <td>1.0</td>\n",
              "      <td>4.0</td>\n",
              "      <td>1.0</td>\n",
              "      <td>9002116_1.png</td>\n",
              "      <td>/content/drive/MyDrive/OAI_data/complete_images/9002116_1.png</td>\n",
              "    </tr>\n",
              "    <tr>\n",
              "      <th>2</th>\n",
              "      <td>9003380_2</td>\n",
              "      <td>64</td>\n",
              "      <td>1</td>\n",
              "      <td>33.1</td>\n",
              "      <td>1.0</td>\n",
              "      <td>1.0</td>\n",
              "      <td>0.0</td>\n",
              "      <td>1.0</td>\n",
              "      <td>5.0</td>\n",
              "      <td>1.0</td>\n",
              "      <td>9003380_2.png</td>\n",
              "      <td>/content/drive/MyDrive/OAI_data/complete_images/9003380_2.png</td>\n",
              "    </tr>\n",
              "    <tr>\n",
              "      <th>3</th>\n",
              "      <td>9004905_2</td>\n",
              "      <td>66</td>\n",
              "      <td>2</td>\n",
              "      <td>36.2</td>\n",
              "      <td>2.0</td>\n",
              "      <td>2.0</td>\n",
              "      <td>0.0</td>\n",
              "      <td>2.0</td>\n",
              "      <td>-3.0</td>\n",
              "      <td>1.0</td>\n",
              "      <td>9004905_2.png</td>\n",
              "      <td>/content/drive/MyDrive/OAI_data/complete_images/9004905_2.png</td>\n",
              "    </tr>\n",
              "    <tr>\n",
              "      <th>4</th>\n",
              "      <td>9009957_1</td>\n",
              "      <td>75</td>\n",
              "      <td>2</td>\n",
              "      <td>26.8</td>\n",
              "      <td>1.0</td>\n",
              "      <td>2.0</td>\n",
              "      <td>0.0</td>\n",
              "      <td>0.0</td>\n",
              "      <td>0.0</td>\n",
              "      <td>1.0</td>\n",
              "      <td>9009957_1.png</td>\n",
              "      <td>/content/drive/MyDrive/OAI_data/complete_images/9009957_1.png</td>\n",
              "    </tr>\n",
              "  </tbody>\n",
              "</table>\n",
              "</div>"
            ],
            "text/plain": [
              "          ID  ...                                                       Img_path\n",
              "0  9001897_1  ...  /content/drive/MyDrive/OAI_data/complete_images/9001897_1.png\n",
              "1  9002116_1  ...  /content/drive/MyDrive/OAI_data/complete_images/9002116_1.png\n",
              "2  9003380_2  ...  /content/drive/MyDrive/OAI_data/complete_images/9003380_2.png\n",
              "3  9004905_2  ...  /content/drive/MyDrive/OAI_data/complete_images/9004905_2.png\n",
              "4  9009957_1  ...  /content/drive/MyDrive/OAI_data/complete_images/9009957_1.png\n",
              "\n",
              "[5 rows x 12 columns]"
            ]
          },
          "metadata": {
            "tags": []
          },
          "execution_count": 8
        }
      ]
    },
    {
      "cell_type": "code",
      "metadata": {
        "id": "DEVqlq9w-aR6"
      },
      "source": [
        "def train_val_test(table, test_size, val_size):\n",
        "\n",
        "    X_train, X_test, y_train, y_test = train_test_split(table['Img_path'], table['BL_KL_grade'], test_size = test_size)\n",
        "    X_train, X_val, y_train, y_val = train_test_split(X_train, y_train, test_size = val_size)\n",
        "    \n",
        "    return X_train, X_val, X_test, y_train, y_val, y_test"
      ],
      "execution_count": 11,
      "outputs": []
    },
    {
      "cell_type": "code",
      "metadata": {
        "id": "91fy8x9q_PKw"
      },
      "source": [
        "X_train, X_val, X_test, y_train, y_val, y_test = train_val_test(table, test_size = 500, val_size = 500)\n",
        "\n",
        "data_dict = {\n",
        "    \"train\": {\"images\": X_train, \"labels\": y_train},\n",
        "    \"val\": {\"images\": X_val, \"labels\": y_val},\n",
        "    \"test\": {\"images\":X_test, \"labels\": y_test}\n",
        "}"
      ],
      "execution_count": 13,
      "outputs": []
    },
    {
      "cell_type": "code",
      "metadata": {
        "id": "-t3HclnM_tBa"
      },
      "source": [
        "class KL_Dataset(Dataset):\n",
        "    def __init__(self, images, labels, transform = None):\n",
        "        self.images = images.tolist()\n",
        "        self.labels = labels.tolist()\n",
        "        self.transform = transform\n",
        "    \n",
        "    def __len__(self):\n",
        "        return len(self.labels)\n",
        "    \n",
        "    def __getitem__(self, idx):\n",
        "        img = Image.open(self.images[idx]).convert(\"RGB\")\n",
        "        if self.transform:\n",
        "            img = self.transform(img)\n",
        "        \n",
        "        KL_grade = torch.tensor(self.labels[idx], dtype = torch.int64)\n",
        "        return img, KL_grade"
      ],
      "execution_count": 15,
      "outputs": []
    },
    {
      "cell_type": "code",
      "metadata": {
        "colab": {
          "base_uri": "https://localhost:8080/",
          "height": 264
        },
        "id": "vddpvgBwAvbd",
        "outputId": "861da268-7b68-4bc2-9ef3-950c46094c24"
      },
      "source": [
        "train_dataset = KL_Dataset(X_train, y_train, transform=transforms.Compose([\n",
        "            transforms.Resize((224, 224)),\n",
        "            transforms.ToTensor(),\n",
        "        ]))\n",
        "\n",
        "temp_img, temp_lab = train_dataset[2]\n",
        "plt.imshow(temp_img.numpy().transpose((1, 2, 0)))\n",
        "plt.title(\"label : \" + str(temp_lab.item()))\n",
        "plt.axis('off')\n",
        "plt.show()"
      ],
      "execution_count": 16,
      "outputs": [
        {
          "output_type": "display_data",
          "data": {
            "image/png": "[encoded data removed]",
            "text/plain": [
              "<Figure size 432x288 with 1 Axes>"
            ]
          },
          "metadata": {
            "tags": [],
            "needs_background": "light"
          }
        }
      ]
    },
    {
      "cell_type": "code",
      "metadata": {
        "id": "7TmVEA68BF9q"
      },
      "source": [
        "def imshow(inp, title=None, unnormalize = False):\n",
        "    \"\"\"\n",
        "    Helper function to visualize one batch of image tensor\n",
        "    \"\"\"\n",
        "    inp = inp.numpy().transpose((1, 2, 0))\n",
        "\n",
        "    if unnormalize:\n",
        "        mean = np.array([0.485, 0.456, 0.406])\n",
        "        std = np.array([0.229, 0.224, 0.225])\n",
        "        inp = std * inp + mean\n",
        "        inp = np.clip(inp, 0, 1)\n",
        "\n",
        "    plt.imshow(inp, cmap = plt.cm.bone)\n",
        "    if title is not None:\n",
        "        plt.title(title)\n",
        "    plt.pause(0.001)  # pause a bit so that plots are updated"
      ],
      "execution_count": 17,
      "outputs": []
    },
    {
      "cell_type": "code",
      "metadata": {
        "id": "oYAVK6USBHHX"
      },
      "source": [
        "def load_data(data, normalize = False, show_images = True):\n",
        "    \"\"\"\n",
        "    loading data into dataloaders\n",
        "    \n",
        "    data: the dictionary that contains all the train/val/test\n",
        "    normalize: whether to normalize image by ([0.485, 0.456, 0.406], [0.229, 0.224, 0.225])\n",
        "    show_images: whether to show one batch of images\n",
        "    \"\"\"\n",
        "    if normalize:\n",
        "        data_transforms = {\n",
        "            'train': transforms.Compose([\n",
        "                transforms.RandomRotation(degrees = 5),\n",
        "                transforms.Resize((224, 224)),\n",
        "                transforms.ToTensor(),\n",
        "                transforms.Normalize([0.485, 0.456, 0.406], [0.229, 0.224, 0.225])\n",
        "            ]),\n",
        "            'val': transforms.Compose([\n",
        "                transforms.Resize((224, 224)),\n",
        "                transforms.ToTensor(),\n",
        "                transforms.Normalize([0.485, 0.456, 0.406], [0.229, 0.224, 0.225])\n",
        "            ]),\n",
        "            'test': transforms.Compose([\n",
        "                transforms.Resize((224, 224)),\n",
        "                transforms.ToTensor(),\n",
        "                transforms.Normalize([0.485, 0.456, 0.406], [0.229, 0.224, 0.225])\n",
        "            ]),\n",
        "        }\n",
        "    else:\n",
        "        data_transforms = {\n",
        "            'train': transforms.Compose([\n",
        "                transforms.RandomRotation(degrees = 5),\n",
        "                transforms.Resize((224, 224)),\n",
        "                transforms.ToTensor(),\n",
        "            ]),\n",
        "            'val': transforms.Compose([\n",
        "                transforms.Resize((224, 224)),\n",
        "                transforms.ToTensor(),\n",
        "            ]),\n",
        "            'test': transforms.Compose([\n",
        "                transforms.Resize((224, 224)),\n",
        "                transforms.ToTensor(),\n",
        "            ]),\n",
        "        }\n",
        "    \n",
        "    image_datasets = {x: KL_Dataset(data[x]['images'], data[x]['labels'], data_transforms[x]) \\\n",
        "                      for x in ['train', 'val', 'test']}\n",
        "\n",
        "    dataset_sizes = {x: len(image_datasets[x]) for x in ['train', 'val', 'test']}\n",
        "\n",
        "    dataloaders = {x: DataLoader(image_datasets[x], batch_size=16, shuffle=True, num_workers=4) \\\n",
        "                   for x in ['train', 'val', 'test']}\n",
        "\n",
        "    dataset_sizes = {x: len(image_datasets[x]) for x in ['train', 'val', 'test']}\n",
        "\n",
        "    if show_images:\n",
        "        if normalize == True:\n",
        "            # Get a batch of training data\n",
        "            img_inputs, classes = next(iter(dataloaders['train']))\n",
        "            # Make a grid from batch\n",
        "            out = torchvision.utils.make_grid(img_inputs)\n",
        "            imshow(out, title=[str(x.item()) for x in classes], unnormalize = True)\n",
        "        else:\n",
        "            # Get a batch of training data\n",
        "            img_inputs, classes = next(iter(dataloaders['train']))\n",
        "            # Make a grid from batch\n",
        "            out = torchvision.utils.make_grid(img_inputs)\n",
        "            imshow(out, title=[str(x.item()) for x in classes])\n",
        "\n",
        "    return dataloaders, dataset_sizes, image_datasets"
      ],
      "execution_count": 21,
      "outputs": []
    },
    {
      "cell_type": "code",
      "metadata": {
        "colab": {
          "base_uri": "https://localhost:8080/",
          "height": 147
        },
        "id": "WkosQCm6BQmn",
        "outputId": "3f0cc045-ffc9-4d6c-8e94-2b01476f3871"
      },
      "source": [
        "dataloaders, dataset_sizes, image_datasets = load_data(data_dict, normalize = False, show_images = True)"
      ],
      "execution_count": 22,
      "outputs": [
        {
          "output_type": "display_data",
          "data": {
            "image/png": "[encoded data removed]",
            "text/plain": [
              "<Figure size 432x288 with 1 Axes>"
            ]
          },
          "metadata": {
            "tags": [],
            "needs_background": "light"
          }
        }
      ]
    },
    {
      "cell_type": "code",
      "metadata": {
        "id": "_zUBDrn6BGAE"
      },
      "source": [
        "def get_vgg_model():\n",
        "    model_ft = models.vgg16(pretrained = True)\n",
        "    model_ft.avgpool = nn.AdaptiveAvgPool2d(output_size=(1, 1))\n",
        "    model_ft.classifier = nn.Sequential(\n",
        "        nn.Flatten(),\n",
        "        nn.Linear(512, 5),\n",
        "    )\n",
        "\n",
        "    criterion = nn.CrossEntropyLoss()\n",
        "\n",
        "    optimizer = optim.Adam(model_ft.parameters(), lr = 0.0001)\n",
        "\n",
        "    # Decay LR by a factor of 0.5 every 5 epochs\n",
        "    scheduler = torch.optim.lr_scheduler.StepLR(optimizer, step_size=5, gamma=0.5, verbose = True)\n",
        "\n",
        "    return model_ft.to(device), criterion, optimizer, scheduler"
      ],
      "execution_count": 23,
      "outputs": []
    },
    {
      "cell_type": "code",
      "metadata": {
        "id": "2LOWBN1-B2gc"
      },
      "source": [
        "def train_model(model, criterion, optimizer, scheduler, num_epochs=25):\n",
        "    since = time.time()\n",
        "\n",
        "    best_model_wts = copy.deepcopy(model.state_dict())\n",
        "\n",
        "    best_acc = 0.0\n",
        "    train_acc_history, val_acc_history = [], []\n",
        "\n",
        "    for epoch in range(num_epochs):\n",
        "        print('Epoch {}/{}'.format(epoch, num_epochs - 1))\n",
        "        print('-' * 10)\n",
        "\n",
        "        # Each epoch has a training and validation phase\n",
        "        for phase in ['train', 'val']:\n",
        "            if phase == 'train':\n",
        "                model.train()  # Set model to training mode\n",
        "            else:\n",
        "                model.eval()   # Set model to evaluate mode\n",
        "                output_score, y_true = [], []\n",
        "\n",
        "            running_loss = 0.0\n",
        "            running_corrects = 0\n",
        "            correct_list = []\n",
        "\n",
        "            # Iterate over data.\n",
        "            for inputs, labels in dataloaders[phase]:\n",
        "                inputs = inputs.to(device)\n",
        "                labels = labels.to(device)\n",
        "\n",
        "                # zero the parameter gradients\n",
        "                optimizer.zero_grad()\n",
        "\n",
        "                # forward\n",
        "                with torch.set_grad_enabled(phase == 'train'):\n",
        "                    # output logits (action)\n",
        "                    outputs = model(inputs)\n",
        "                    _, preds = torch.max(outputs, dim = 1)\n",
        "                    batch_correct = preds == labels.data\n",
        "                    # compute loss over logits\n",
        "                    batch_loss = criterion(outputs, labels)\n",
        "\n",
        "                    # backward + optimize only if in training phase\n",
        "                    if phase == 'train':\n",
        "                        batch_loss.backward()\n",
        "                        optimizer.step()\n",
        "                \n",
        "                # statistics\n",
        "                running_loss += batch_loss.item() * inputs.shape[0]\n",
        "                correct_list += batch_correct.cpu().numpy().tolist()\n",
        "\n",
        "                # clear cache\n",
        "                del inputs, labels, outputs, batch_loss, batch_correct\n",
        "                torch.cuda.empty_cache()\n",
        "\n",
        "            if phase == 'train':\n",
        "                scheduler.step()\n",
        "\n",
        "            # train/val epoch average loss\n",
        "            epoch_loss = running_loss / dataset_sizes[phase]\n",
        "            # train/val epoch accuracy\n",
        "            epoch_acc = np.mean(correct_list)\n",
        "\n",
        "            if phase == 'val':\n",
        "                print('{} Loss: {:.4f} Acc: {:.4f}'.format(\n",
        "                                phase, epoch_loss, epoch_acc))\n",
        "                val_acc_history.append(epoch_acc)\n",
        "            else:\n",
        "                print('{} Loss: {:.4f} Acc: {:.4f}'.format(\n",
        "                                phase, epoch_loss, epoch_acc))\n",
        "                train_acc_history.append(epoch_acc)\n",
        "\n",
        "            # deep copy the model\n",
        "            if phase == 'val' and epoch_acc > best_acc:\n",
        "            #if phase == 'val' and epoch_loss < model_score:\n",
        "                best_acc = epoch_acc\n",
        "                best_model_wts = copy.deepcopy(model.state_dict())\n",
        "    \n",
        "    print()\n",
        "\n",
        "    time_elapsed = time.time() - since\n",
        "    print('Training complete in {:.0f}m {:.0f}s'.format(\n",
        "        time_elapsed // 60, time_elapsed % 60))\n",
        "    print('Best val Acc: {:4f}'.format(best_acc))\n",
        "\n",
        "    # load best model weights\n",
        "    model.load_state_dict(best_model_wts)\n",
        "    return model, train_acc_history, val_acc_history"
      ],
      "execution_count": 40,
      "outputs": []
    },
    {
      "cell_type": "code",
      "metadata": {
        "id": "0FQJyMGHDJsi"
      },
      "source": [
        "def eval_model(model, criterion, eval_set = 'val'):\n",
        "    model.eval()\n",
        "\n",
        "    since = time.time()\n",
        "    loss_eval, acc_eval= 0, 0\n",
        "\n",
        "    # y_hat: predictions\n",
        "    # output_score: probabilities (compute AUC)\n",
        "    # y_true: ground truth\n",
        "    y_hat, y_true = [], []\n",
        "    \n",
        "    test_batches = len(dataloaders[eval_set])\n",
        "    print(\"Evaluating model\")\n",
        "    print('-' * 10)\n",
        "    \n",
        "    for i, data in enumerate(dataloaders[eval_set]):\n",
        "        if i % 100 == 0:\n",
        "            print(\"\\rbatch {}/{}\".format(i, test_batches), end='', flush=True)\n",
        "            \n",
        "        inputs, labels = data\n",
        "\n",
        "        inputs = inputs.to(device)\n",
        "        labels = labels.to(device)\n",
        "\n",
        "        outputs = model(inputs)\n",
        "        _, preds = torch.max(outputs, dim = 1)\n",
        "        # is_correct: 1 if correct else 0\n",
        "        is_correct = preds == labels.data\n",
        "        batch_loss = criterion(outputs, labels)\n",
        "\n",
        "        loss_eval += batch_loss.item() * inputs.shape[0]\n",
        "        acc_eval += torch.sum(is_correct)\n",
        "\n",
        "        y_true += labels.cpu().detach().numpy().tolist()\n",
        "        y_hat += preds.cpu().numpy().tolist()\n",
        "\n",
        "        del inputs, labels, outputs, batch_loss\n",
        "        torch.cuda.empty_cache()\n",
        "        \n",
        "    avg_loss = loss_eval/ dataset_sizes[eval_set]\n",
        "    avg_acc = acc_eval / dataset_sizes[eval_set]\n",
        "\n",
        "    elapsed_time = time.time() - since\n",
        "    print()\n",
        "    print(\"Evaluation completed in {:.0f}m {:.0f}s\".format(elapsed_time // 60, elapsed_time % 60))\n",
        "    print(\"Avg loss (test): {:.4f}\".format(avg_loss))\n",
        "    print(\"Avg acc (test): {:.4f}\".format(avg_acc))\n",
        "    print('-' * 10)\n",
        "\n",
        "    cm = confusion_matrix(y_true, y_hat)\n",
        "    df_cm = pd.DataFrame(cm, index = [0, 1, 2, 3, 4], columns = [0, 1, 2, 3, 4])\n",
        "    plt.figure(figsize = (8, 6))\n",
        "    sns.heatmap(df_cm, annot=True, fmt='.5g')\n",
        "    plt.xlabel(\"predicted\")\n",
        "    plt.ylabel(\"actual\")\n",
        "    plt.title(\"confusion matrix\")\n",
        "    plt.show()\n",
        "\n",
        "    return y_true, y_hat"
      ],
      "execution_count": 34,
      "outputs": []
    },
    {
      "cell_type": "code",
      "metadata": {
        "colab": {
          "base_uri": "https://localhost:8080/"
        },
        "id": "0bz2MSPqCRoY",
        "outputId": "82f156b9-28d9-470f-d1f1-36ff5a395159"
      },
      "source": [
        "model_ft, criterion, optimizer, scheduler = get_vgg_model()\n",
        "summary(model_ft, (3, 224, 224))"
      ],
      "execution_count": 51,
      "outputs": [
        {
          "output_type": "stream",
          "text": [
            "Adjusting learning rate of group 0 to 1.0000e-04.\n",
            "----------------------------------------------------------------\n",
            "        Layer (type)               Output Shape         Param #\n",
            "================================================================\n",
            "            Conv2d-1         [-1, 64, 224, 224]           1,792\n",
            "              ReLU-2         [-1, 64, 224, 224]               0\n",
            "            Conv2d-3         [-1, 64, 224, 224]          36,928\n",
            "              ReLU-4         [-1, 64, 224, 224]               0\n",
            "         MaxPool2d-5         [-1, 64, 112, 112]               0\n",
            "            Conv2d-6        [-1, 128, 112, 112]          73,856\n",
            "              ReLU-7        [-1, 128, 112, 112]               0\n",
            "            Conv2d-8        [-1, 128, 112, 112]         147,584\n",
            "              ReLU-9        [-1, 128, 112, 112]               0\n",
            "        MaxPool2d-10          [-1, 128, 56, 56]               0\n",
            "           Conv2d-11          [-1, 256, 56, 56]         295,168\n",
            "             ReLU-12          [-1, 256, 56, 56]               0\n",
            "           Conv2d-13          [-1, 256, 56, 56]         590,080\n",
            "             ReLU-14          [-1, 256, 56, 56]               0\n",
            "           Conv2d-15          [-1, 256, 56, 56]         590,080\n",
            "             ReLU-16          [-1, 256, 56, 56]               0\n",
            "        MaxPool2d-17          [-1, 256, 28, 28]               0\n",
            "           Conv2d-18          [-1, 512, 28, 28]       1,180,160\n",
            "             ReLU-19          [-1, 512, 28, 28]               0\n",
            "           Conv2d-20          [-1, 512, 28, 28]       2,359,808\n",
            "             ReLU-21          [-1, 512, 28, 28]               0\n",
            "           Conv2d-22          [-1, 512, 28, 28]       2,359,808\n",
            "             ReLU-23          [-1, 512, 28, 28]               0\n",
            "        MaxPool2d-24          [-1, 512, 14, 14]               0\n",
            "           Conv2d-25          [-1, 512, 14, 14]       2,359,808\n",
            "             ReLU-26          [-1, 512, 14, 14]               0\n",
            "           Conv2d-27          [-1, 512, 14, 14]       2,359,808\n",
            "             ReLU-28          [-1, 512, 14, 14]               0\n",
            "           Conv2d-29          [-1, 512, 14, 14]       2,359,808\n",
            "             ReLU-30          [-1, 512, 14, 14]               0\n",
            "        MaxPool2d-31            [-1, 512, 7, 7]               0\n",
            "AdaptiveAvgPool2d-32            [-1, 512, 1, 1]               0\n",
            "          Flatten-33                  [-1, 512]               0\n",
            "           Linear-34                    [-1, 5]           2,565\n",
            "================================================================\n",
            "Total params: 14,717,253\n",
            "Trainable params: 14,717,253\n",
            "Non-trainable params: 0\n",
            "----------------------------------------------------------------\n",
            "Input size (MB): 0.57\n",
            "Forward/backward pass size (MB): 218.40\n",
            "Params size (MB): 56.14\n",
            "Estimated Total Size (MB): 275.12\n",
            "----------------------------------------------------------------\n"
          ],
          "name": "stdout"
        }
      ]
    },
    {
      "cell_type": "code",
      "metadata": {
        "colab": {
          "base_uri": "https://localhost:8080/"
        },
        "id": "ydieTq7GBlAQ",
        "outputId": "493c0f3c-7d3e-49f2-e2d2-5ab8c812c7fe"
      },
      "source": [
        "best_model, train_acc_hist, val_acc_hist = train_model(model_ft, criterion, optimizer, scheduler, num_epochs=10)"
      ],
      "execution_count": 52,
      "outputs": [
        {
          "output_type": "stream",
          "text": [
            "Epoch 0/9\n",
            "----------\n",
            "Adjusting learning rate of group 0 to 1.0000e-04.\n",
            "train Loss: 1.1319 Acc: 0.5155\n",
            "val Loss: 0.9526 Acc: 0.6360\n",
            "Epoch 1/9\n",
            "----------\n",
            "Adjusting learning rate of group 0 to 1.0000e-04.\n",
            "train Loss: 0.8682 Acc: 0.6409\n",
            "val Loss: 0.7651 Acc: 0.6960\n",
            "Epoch 2/9\n",
            "----------\n",
            "Adjusting learning rate of group 0 to 1.0000e-04.\n",
            "train Loss: 0.7588 Acc: 0.6837\n",
            "val Loss: 0.7726 Acc: 0.6840\n",
            "Epoch 3/9\n",
            "----------\n",
            "Adjusting learning rate of group 0 to 1.0000e-04.\n",
            "train Loss: 0.7173 Acc: 0.6988\n",
            "val Loss: 0.7664 Acc: 0.7000\n",
            "Epoch 4/9\n",
            "----------\n",
            "Adjusting learning rate of group 0 to 5.0000e-05.\n",
            "train Loss: 0.6667 Acc: 0.7215\n",
            "val Loss: 0.7335 Acc: 0.7020\n",
            "Epoch 5/9\n",
            "----------\n",
            "Adjusting learning rate of group 0 to 5.0000e-05.\n",
            "train Loss: 0.5788 Acc: 0.7539\n",
            "val Loss: 0.7086 Acc: 0.7340\n",
            "Epoch 6/9\n",
            "----------\n",
            "Adjusting learning rate of group 0 to 5.0000e-05.\n",
            "train Loss: 0.5404 Acc: 0.7751\n",
            "val Loss: 0.7601 Acc: 0.6860\n",
            "Epoch 7/9\n",
            "----------\n",
            "Adjusting learning rate of group 0 to 5.0000e-05.\n",
            "train Loss: 0.4956 Acc: 0.7920\n",
            "val Loss: 0.8100 Acc: 0.7020\n",
            "Epoch 8/9\n",
            "----------\n",
            "Adjusting learning rate of group 0 to 5.0000e-05.\n",
            "train Loss: 0.4619 Acc: 0.8090\n",
            "val Loss: 0.8141 Acc: 0.7080\n",
            "Epoch 9/9\n",
            "----------\n",
            "Adjusting learning rate of group 0 to 2.5000e-05.\n",
            "train Loss: 0.4156 Acc: 0.8297\n",
            "val Loss: 0.9072 Acc: 0.6540\n",
            "\n",
            "Training complete in 15m 50s\n",
            "Best val Acc: 0.734000\n"
          ],
          "name": "stdout"
        }
      ]
    },
    {
      "cell_type": "code",
      "metadata": {
        "colab": {
          "base_uri": "https://localhost:8080/",
          "height": 528
        },
        "id": "L0elovCTBlCF",
        "outputId": "2bf4920b-70ec-4abb-8d2f-bb6d50ca1af7"
      },
      "source": [
        "y_true, y_hat = eval_model(best_model, criterion, eval_set = 'test')"
      ],
      "execution_count": 53,
      "outputs": [
        {
          "output_type": "stream",
          "text": [
            "Evaluating model\n",
            "----------\n",
            "batch 0/32\n",
            "Evaluation completed in 0m 6s\n",
            "Avg loss (test): 0.7565\n",
            "Avg acc (test): 0.7260\n",
            "----------\n"
          ],
          "name": "stdout"
        },
        {
          "output_type": "display_data",
          "data": {
            "image/png": "[encoded data removed]",
            "text/plain": [
              "<Figure size 576x432 with 2 Axes>"
            ]
          },
          "metadata": {
            "tags": [],
            "needs_background": "light"
          }
        }
      ]
    },
    {
      "cell_type": "code",
      "metadata": {
        "id": "OF-ckFMeBGC5"
      },
      "source": [
        "KL_model_PATH = '/content/drive/MyDrive/DL_models/KL_prediction.pt'\n",
        "torch.save(model_ft.state_dict(), KL_model_PATH)"
      ],
      "execution_count": 47,
      "outputs": []
    }
  ]
}