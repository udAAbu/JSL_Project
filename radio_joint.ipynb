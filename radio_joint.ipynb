{
  "nbformat": 4,
  "nbformat_minor": 0,
  "metadata": {
    "colab": {
      "name": "Radio_joint.ipynb",
      "provenance": [],
      "collapsed_sections": [],
      "machine_shape": "hm",
      "authorship_tag": "ABX9TyN7dorliJAVgNyQYoJpKLxE",
      "include_colab_link": true
    },
    "kernelspec": {
      "name": "python3",
      "display_name": "Python 3"
    },
    "language_info": {
      "name": "python"
    },
    "accelerator": "GPU"
  },
  "cells": [
    {
      "cell_type": "markdown",
      "metadata": {
        "id": "view-in-github",
        "colab_type": "text"
      },
      "source": [
        "<a href=\"https://colab.research.google.com/github/udAAbu/JSL_Project/blob/main/radio_joint.ipynb\" target=\"_parent\"><img src=\"https://colab.research.google.com/assets/colab-badge.svg\" alt=\"Open In Colab\"/></a>"
      ]
    },
    {
      "cell_type": "code",
      "metadata": {
        "colab": {
          "base_uri": "https://localhost:8080/"
        },
        "id": "Rf-1jq4Venzl",
        "outputId": "f95d4248-905b-494b-f9f8-0395a37b8402"
      },
      "source": [
        "from google.colab import drive\n",
        "drive.mount('/content/drive')"
      ],
      "execution_count": 1,
      "outputs": [
        {
          "output_type": "stream",
          "text": [
            "Mounted at /content/drive\n"
          ],
          "name": "stdout"
        }
      ]
    },
    {
      "cell_type": "code",
      "metadata": {
        "id": "D1DTfNf-evi8",
        "colab": {
          "base_uri": "https://localhost:8080/"
        },
        "outputId": "aea5db7d-525f-43dd-9936-58c4eaa8b027"
      },
      "source": [
        "from __future__ import print_function, division\n",
        "\n",
        "import torch\n",
        "import torch.nn as nn\n",
        "import torch.optim as optim\n",
        "from torch.optim import lr_scheduler\n",
        "import torchvision\n",
        "from torchvision import datasets, models, transforms\n",
        "from torch.utils.data import DataLoader, TensorDataset, Dataset, ConcatDataset\n",
        "from torch.utils.data.sampler import SubsetRandomSampler\n",
        "from torchsummary import summary\n",
        "\n",
        "import numpy as np\n",
        "import pandas as pd\n",
        "import matplotlib.pyplot as plt\n",
        "from PIL import Image\n",
        "import seaborn as sns\n",
        "import time\n",
        "import os\n",
        "import copy\n",
        "from sklearn.metrics import *\n",
        "from sklearn.model_selection import train_test_split\n",
        "\n",
        "import warnings\n",
        "warnings.simplefilter(\"ignore\")\n",
        "\n",
        "plt.ion()\n",
        "pd.set_option(\"display.max_colwidth\", None)\n",
        "\n",
        "device = torch.device(\"cuda:0\" if torch.cuda.is_available() else \"cpu\")\n",
        "device"
      ],
      "execution_count": 39,
      "outputs": [
        {
          "output_type": "execute_result",
          "data": {
            "text/plain": [
              "device(type='cuda', index=0)"
            ]
          },
          "metadata": {
            "tags": []
          },
          "execution_count": 39
        }
      ]
    },
    {
      "cell_type": "markdown",
      "metadata": {
        "id": "zteIdY9MWydp"
      },
      "source": [
        "### Path\n",
        "\n",
        "- (Important) These paths should be changed to the paths to each folder in your google drive."
      ]
    },
    {
      "cell_type": "code",
      "metadata": {
        "id": "UjHIDX5KWtLH"
      },
      "source": [
        "# Joint space loss CSV file\n",
        "JSL_path = \"/content/drive/MyDrive/OAI_data/JSL.csv\"\n",
        "Image_dir = \"/content/drive/MyDrive/OAI_data/complete_images/\""
      ],
      "execution_count": 30,
      "outputs": []
    },
    {
      "cell_type": "markdown",
      "metadata": {
        "id": "jrjCrqq_Zi_P"
      },
      "source": [
        "### Load data\n",
        "\n",
        "- Load the joint space loss csv file and available images. \n",
        "- filter the data (get rid of rows without label or image)\n",
        "- should have 4163 useful records."
      ]
    },
    {
      "cell_type": "code",
      "metadata": {
        "colab": {
          "base_uri": "https://localhost:8080/",
          "height": 197
        },
        "id": "2MTYRP1WNrVa",
        "outputId": "a79814f4-d515-457d-994e-03a67940675c"
      },
      "source": [
        "JSL_data = pd.read_csv(JSL_path)\n",
        "available_images = os.listdir(Image_dir)\n",
        "\n",
        "JSL_data['Img_id'] = JSL_data.apply(lambda x: x['ID'] + '.png', axis = 1)\n",
        "JSL_data[\"Img_path\"] = JSL_data.apply(lambda x: Image_dir + x['Img_id'], axis = 1)\n",
        "\n",
        "#filter out those records without label or without images\n",
        "table = JSL_data[(JSL_data['Img_id'].isin(available_images)) & (JSL_data['JSL_Prog'].isna() == False)]\n",
        "table.head()"
      ],
      "execution_count": 40,
      "outputs": [
        {
          "output_type": "execute_result",
          "data": {
            "text/html": [
              "<div>\n",
              "<style scoped>\n",
              "    .dataframe tbody tr th:only-of-type {\n",
              "        vertical-align: middle;\n",
              "    }\n",
              "\n",
              "    .dataframe tbody tr th {\n",
              "        vertical-align: top;\n",
              "    }\n",
              "\n",
              "    .dataframe thead th {\n",
              "        text-align: right;\n",
              "    }\n",
              "</style>\n",
              "<table border=\"1\" class=\"dataframe\">\n",
              "  <thead>\n",
              "    <tr style=\"text-align: right;\">\n",
              "      <th></th>\n",
              "      <th>ID</th>\n",
              "      <th>Age</th>\n",
              "      <th>Sex</th>\n",
              "      <th>BMI</th>\n",
              "      <th>Race</th>\n",
              "      <th>BL_KL_grade</th>\n",
              "      <th>Knee_Injury</th>\n",
              "      <th>Alignmnet_TRIN</th>\n",
              "      <th>Alignment_degree</th>\n",
              "      <th>JSL_Prog</th>\n",
              "      <th>Img_id</th>\n",
              "      <th>Img_path</th>\n",
              "    </tr>\n",
              "  </thead>\n",
              "  <tbody>\n",
              "    <tr>\n",
              "      <th>0</th>\n",
              "      <td>9001897_1</td>\n",
              "      <td>72</td>\n",
              "      <td>1</td>\n",
              "      <td>25.9</td>\n",
              "      <td>1.0</td>\n",
              "      <td>3.0</td>\n",
              "      <td>1.0</td>\n",
              "      <td>1.0</td>\n",
              "      <td>6.0</td>\n",
              "      <td>1.0</td>\n",
              "      <td>9001897_1.png</td>\n",
              "      <td>/content/drive/MyDrive/OAI_data/complete_images/9001897_1.png</td>\n",
              "    </tr>\n",
              "    <tr>\n",
              "      <th>1</th>\n",
              "      <td>9002116_1</td>\n",
              "      <td>61</td>\n",
              "      <td>1</td>\n",
              "      <td>36.5</td>\n",
              "      <td>2.0</td>\n",
              "      <td>2.0</td>\n",
              "      <td>0.0</td>\n",
              "      <td>1.0</td>\n",
              "      <td>4.0</td>\n",
              "      <td>1.0</td>\n",
              "      <td>9002116_1.png</td>\n",
              "      <td>/content/drive/MyDrive/OAI_data/complete_images/9002116_1.png</td>\n",
              "    </tr>\n",
              "    <tr>\n",
              "      <th>2</th>\n",
              "      <td>9003380_2</td>\n",
              "      <td>64</td>\n",
              "      <td>1</td>\n",
              "      <td>33.1</td>\n",
              "      <td>1.0</td>\n",
              "      <td>1.0</td>\n",
              "      <td>0.0</td>\n",
              "      <td>1.0</td>\n",
              "      <td>5.0</td>\n",
              "      <td>1.0</td>\n",
              "      <td>9003380_2.png</td>\n",
              "      <td>/content/drive/MyDrive/OAI_data/complete_images/9003380_2.png</td>\n",
              "    </tr>\n",
              "    <tr>\n",
              "      <th>3</th>\n",
              "      <td>9004905_2</td>\n",
              "      <td>66</td>\n",
              "      <td>2</td>\n",
              "      <td>36.2</td>\n",
              "      <td>2.0</td>\n",
              "      <td>2.0</td>\n",
              "      <td>0.0</td>\n",
              "      <td>2.0</td>\n",
              "      <td>-3.0</td>\n",
              "      <td>1.0</td>\n",
              "      <td>9004905_2.png</td>\n",
              "      <td>/content/drive/MyDrive/OAI_data/complete_images/9004905_2.png</td>\n",
              "    </tr>\n",
              "    <tr>\n",
              "      <th>4</th>\n",
              "      <td>9009957_1</td>\n",
              "      <td>75</td>\n",
              "      <td>2</td>\n",
              "      <td>26.8</td>\n",
              "      <td>1.0</td>\n",
              "      <td>2.0</td>\n",
              "      <td>0.0</td>\n",
              "      <td>0.0</td>\n",
              "      <td>0.0</td>\n",
              "      <td>1.0</td>\n",
              "      <td>9009957_1.png</td>\n",
              "      <td>/content/drive/MyDrive/OAI_data/complete_images/9009957_1.png</td>\n",
              "    </tr>\n",
              "  </tbody>\n",
              "</table>\n",
              "</div>"
            ],
            "text/plain": [
              "          ID  ...                                                       Img_path\n",
              "0  9001897_1  ...  /content/drive/MyDrive/OAI_data/complete_images/9001897_1.png\n",
              "1  9002116_1  ...  /content/drive/MyDrive/OAI_data/complete_images/9002116_1.png\n",
              "2  9003380_2  ...  /content/drive/MyDrive/OAI_data/complete_images/9003380_2.png\n",
              "3  9004905_2  ...  /content/drive/MyDrive/OAI_data/complete_images/9004905_2.png\n",
              "4  9009957_1  ...  /content/drive/MyDrive/OAI_data/complete_images/9009957_1.png\n",
              "\n",
              "[5 rows x 12 columns]"
            ]
          },
          "metadata": {
            "tags": []
          },
          "execution_count": 40
        }
      ]
    },
    {
      "cell_type": "markdown",
      "metadata": {
        "id": "Skc7mecIaNc2"
      },
      "source": [
        "### Preprocess the table data\n",
        "\n",
        "- impute missing values\n",
        "- convert Race and KL_grade to categorical features\n",
        "- dummy all the categorical features"
      ]
    },
    {
      "cell_type": "code",
      "metadata": {
        "colab": {
          "base_uri": "https://localhost:8080/",
          "height": 217
        },
        "id": "Hxg20XscY_Qs",
        "outputId": "26183f5a-7b8a-4709-82eb-7ee2539c9912"
      },
      "source": [
        "#impute missing alignment_degree with mean (very few)\n",
        "alignment_degree_avg = np.mean(table['Alignment_degree'])\n",
        "table['Alignment_degree'] = table['Alignment_degree'].fillna(alignment_degree_avg)\n",
        "\n",
        "#impute missing BMI with mean (very few)\n",
        "BMI_avg = np.mean(table['BMI'])\n",
        "table['BMI'] = table['BMI'].fillna(BMI_avg)\n",
        "\n",
        "#impute missing knee_Injury with 0\n",
        "table['Knee_Injury'] = table['Knee_Injury'].fillna(0)\n",
        "\n",
        "table['Sex'] = table['Sex'].apply(lambda x: 0 if x == 1 else 1)\n",
        "\n",
        "table['Race'] = table['Race'].astype(str)\n",
        "table['BL_KL_grade'] = table['BL_KL_grade'].astype(str)\n",
        "\n",
        "cols = ['Race', 'BL_KL_grade']\n",
        "table = pd.get_dummies(table, columns = cols)\n",
        "table.head()"
      ],
      "execution_count": 41,
      "outputs": [
        {
          "output_type": "execute_result",
          "data": {
            "text/html": [
              "<div>\n",
              "<style scoped>\n",
              "    .dataframe tbody tr th:only-of-type {\n",
              "        vertical-align: middle;\n",
              "    }\n",
              "\n",
              "    .dataframe tbody tr th {\n",
              "        vertical-align: top;\n",
              "    }\n",
              "\n",
              "    .dataframe thead th {\n",
              "        text-align: right;\n",
              "    }\n",
              "</style>\n",
              "<table border=\"1\" class=\"dataframe\">\n",
              "  <thead>\n",
              "    <tr style=\"text-align: right;\">\n",
              "      <th></th>\n",
              "      <th>ID</th>\n",
              "      <th>Age</th>\n",
              "      <th>Sex</th>\n",
              "      <th>BMI</th>\n",
              "      <th>Knee_Injury</th>\n",
              "      <th>Alignmnet_TRIN</th>\n",
              "      <th>Alignment_degree</th>\n",
              "      <th>JSL_Prog</th>\n",
              "      <th>Img_id</th>\n",
              "      <th>Img_path</th>\n",
              "      <th>Race_0.0</th>\n",
              "      <th>Race_1.0</th>\n",
              "      <th>Race_2.0</th>\n",
              "      <th>Race_3.0</th>\n",
              "      <th>BL_KL_grade_0.0</th>\n",
              "      <th>BL_KL_grade_1.0</th>\n",
              "      <th>BL_KL_grade_2.0</th>\n",
              "      <th>BL_KL_grade_3.0</th>\n",
              "      <th>BL_KL_grade_4.0</th>\n",
              "    </tr>\n",
              "  </thead>\n",
              "  <tbody>\n",
              "    <tr>\n",
              "      <th>0</th>\n",
              "      <td>9001897_1</td>\n",
              "      <td>72</td>\n",
              "      <td>0</td>\n",
              "      <td>25.9</td>\n",
              "      <td>1.0</td>\n",
              "      <td>1.0</td>\n",
              "      <td>6.0</td>\n",
              "      <td>1.0</td>\n",
              "      <td>9001897_1.png</td>\n",
              "      <td>/content/drive/MyDrive/OAI_data/complete_images/9001897_1.png</td>\n",
              "      <td>0</td>\n",
              "      <td>1</td>\n",
              "      <td>0</td>\n",
              "      <td>0</td>\n",
              "      <td>0</td>\n",
              "      <td>0</td>\n",
              "      <td>0</td>\n",
              "      <td>1</td>\n",
              "      <td>0</td>\n",
              "    </tr>\n",
              "    <tr>\n",
              "      <th>1</th>\n",
              "      <td>9002116_1</td>\n",
              "      <td>61</td>\n",
              "      <td>0</td>\n",
              "      <td>36.5</td>\n",
              "      <td>0.0</td>\n",
              "      <td>1.0</td>\n",
              "      <td>4.0</td>\n",
              "      <td>1.0</td>\n",
              "      <td>9002116_1.png</td>\n",
              "      <td>/content/drive/MyDrive/OAI_data/complete_images/9002116_1.png</td>\n",
              "      <td>0</td>\n",
              "      <td>0</td>\n",
              "      <td>1</td>\n",
              "      <td>0</td>\n",
              "      <td>0</td>\n",
              "      <td>0</td>\n",
              "      <td>1</td>\n",
              "      <td>0</td>\n",
              "      <td>0</td>\n",
              "    </tr>\n",
              "    <tr>\n",
              "      <th>2</th>\n",
              "      <td>9003380_2</td>\n",
              "      <td>64</td>\n",
              "      <td>0</td>\n",
              "      <td>33.1</td>\n",
              "      <td>0.0</td>\n",
              "      <td>1.0</td>\n",
              "      <td>5.0</td>\n",
              "      <td>1.0</td>\n",
              "      <td>9003380_2.png</td>\n",
              "      <td>/content/drive/MyDrive/OAI_data/complete_images/9003380_2.png</td>\n",
              "      <td>0</td>\n",
              "      <td>1</td>\n",
              "      <td>0</td>\n",
              "      <td>0</td>\n",
              "      <td>0</td>\n",
              "      <td>1</td>\n",
              "      <td>0</td>\n",
              "      <td>0</td>\n",
              "      <td>0</td>\n",
              "    </tr>\n",
              "    <tr>\n",
              "      <th>3</th>\n",
              "      <td>9004905_2</td>\n",
              "      <td>66</td>\n",
              "      <td>1</td>\n",
              "      <td>36.2</td>\n",
              "      <td>0.0</td>\n",
              "      <td>2.0</td>\n",
              "      <td>-3.0</td>\n",
              "      <td>1.0</td>\n",
              "      <td>9004905_2.png</td>\n",
              "      <td>/content/drive/MyDrive/OAI_data/complete_images/9004905_2.png</td>\n",
              "      <td>0</td>\n",
              "      <td>0</td>\n",
              "      <td>1</td>\n",
              "      <td>0</td>\n",
              "      <td>0</td>\n",
              "      <td>0</td>\n",
              "      <td>1</td>\n",
              "      <td>0</td>\n",
              "      <td>0</td>\n",
              "    </tr>\n",
              "    <tr>\n",
              "      <th>4</th>\n",
              "      <td>9009957_1</td>\n",
              "      <td>75</td>\n",
              "      <td>1</td>\n",
              "      <td>26.8</td>\n",
              "      <td>0.0</td>\n",
              "      <td>0.0</td>\n",
              "      <td>0.0</td>\n",
              "      <td>1.0</td>\n",
              "      <td>9009957_1.png</td>\n",
              "      <td>/content/drive/MyDrive/OAI_data/complete_images/9009957_1.png</td>\n",
              "      <td>0</td>\n",
              "      <td>1</td>\n",
              "      <td>0</td>\n",
              "      <td>0</td>\n",
              "      <td>0</td>\n",
              "      <td>0</td>\n",
              "      <td>1</td>\n",
              "      <td>0</td>\n",
              "      <td>0</td>\n",
              "    </tr>\n",
              "  </tbody>\n",
              "</table>\n",
              "</div>"
            ],
            "text/plain": [
              "          ID  Age  Sex  ...  BL_KL_grade_2.0  BL_KL_grade_3.0  BL_KL_grade_4.0\n",
              "0  9001897_1   72    0  ...                0                1                0\n",
              "1  9002116_1   61    0  ...                1                0                0\n",
              "2  9003380_2   64    0  ...                0                0                0\n",
              "3  9004905_2   66    1  ...                1                0                0\n",
              "4  9009957_1   75    1  ...                1                0                0\n",
              "\n",
              "[5 rows x 19 columns]"
            ]
          },
          "metadata": {
            "tags": []
          },
          "execution_count": 41
        }
      ]
    },
    {
      "cell_type": "markdown",
      "metadata": {
        "id": "Bm5Daqj9cm7e"
      },
      "source": [
        "### train, val, test\n",
        "- Use **balance** arg to control the balance of two classes. You can set **balance=False** if you don't want the balanced dataset. "
      ]
    },
    {
      "cell_type": "code",
      "metadata": {
        "id": "EIqIs9OsbISa"
      },
      "source": [
        "def train_val_test(table, test_size, val_size, balance = True):\n",
        "    if balance:\n",
        "        balanced_table = pd.concat([table[table['JSL_Prog'] == 0].sample(frac = 0.5), table[table['JSL_Prog'] == 1]])\n",
        "        print(balanced_table['JSL_Prog'].value_counts())\n",
        "\n",
        "        X_train, X_test, y_train, y_test = train_test_split(balanced_table.drop(columns = 'JSL_Prog'), balanced_table['JSL_Prog'], test_size = test_size, random_state = 1997)\n",
        "        X_train, X_val, y_train, y_val = train_test_split(X_train, y_train, test_size = val_size, random_state = 1997)\n",
        "    else:\n",
        "        X_train, X_test, y_train, y_test = train_test_split(table.drop(columns = 'JSL_Prog'), table['JSL_Prog'], test_size = test_size, random_state = 1997)\n",
        "        X_train, X_val, y_train, y_val = train_test_split(X_train, y_train, test_size = val_size, random_state = 1997)\n",
        "    \n",
        "    return X_train, X_val, X_test, y_train, y_val, y_test"
      ],
      "execution_count": 96,
      "outputs": []
    },
    {
      "cell_type": "code",
      "metadata": {
        "colab": {
          "base_uri": "https://localhost:8080/"
        },
        "id": "g8XtOekScdbM",
        "outputId": "89dad5fc-542e-4333-bbe5-dc793d4fa349"
      },
      "source": [
        "#these are the risk factors we will include\n",
        "use_cols = ['Age', 'Sex', 'BMI', 'Knee_Injury', 'Alignment_degree', \\\n",
        "            'Race_0.0', 'Race_1.0', 'Race_2.0', 'Race_3.0', 'BL_KL_grade_0.0', 'BL_KL_grade_1.0', 'BL_KL_grade_2.0', 'BL_KL_grade_3.0', 'BL_KL_grade_4.0']\n",
        "\n",
        "X_train, X_val, X_test, y_train, y_val, y_test = train_val_test(table, test_size = 300, val_size = 300, balance = True)\n",
        "\n",
        "joint_data = {\n",
        "    \"train\": {\"df\": X_train, \"cols\": use_cols, \"labels\": y_train},\n",
        "    \"val\": {\"df\": X_val, \"cols\": use_cols, \"labels\": y_val},\n",
        "    \"test\": {\"df\":X_test, \"cols\": use_cols, \"labels\": y_test}\n",
        "}"
      ],
      "execution_count": 97,
      "outputs": [
        {
          "output_type": "stream",
          "text": [
            "0.0    1406\n",
            "1.0    1351\n",
            "Name: JSL_Prog, dtype: int64\n"
          ],
          "name": "stdout"
        }
      ]
    },
    {
      "cell_type": "markdown",
      "metadata": {
        "id": "8CMF9Nxreihq"
      },
      "source": [
        "### CustomDataset\n",
        "- load image and risk factors together\n",
        "\n"
      ]
    },
    {
      "cell_type": "code",
      "metadata": {
        "id": "gzkhR4TPOW2i"
      },
      "source": [
        "class CustomDataset(Dataset):\n",
        "    def __init__(self, df, cols, labels, transform = None):\n",
        "        \"\"\"\n",
        "        output: (Image tensor, risk factors tensor), label\n",
        "        \"\"\"\n",
        "        self.images = df[\"Img_path\"].tolist()\n",
        "        self.factors = df[cols].values\n",
        "        self.labels = labels.tolist()\n",
        "        self.transform = transform\n",
        "    \n",
        "    def __len__(self):\n",
        "        return len(self.labels)\n",
        "    \n",
        "    def __getitem__(self, idx):\n",
        "        img = Image.open(self.images[idx]).convert('RGB')\n",
        "        risk_factors = self.factors[idx, :]\n",
        "        label = self.labels[idx]\n",
        "\n",
        "        if self.transform:\n",
        "            img = self.transform(img)\n",
        "        \n",
        "        risk_factors = torch.tensor(risk_factors, dtype = torch.float)\n",
        "        label = torch.tensor(label, dtype = torch.int64)\n",
        "        return (img, risk_factors), label"
      ],
      "execution_count": 98,
      "outputs": []
    },
    {
      "cell_type": "code",
      "metadata": {
        "colab": {
          "base_uri": "https://localhost:8080/",
          "height": 264
        },
        "id": "Y5McnucXk38e",
        "outputId": "396f7aa8-25cd-445e-f92e-a9b7e2bf8836"
      },
      "source": [
        "#example of usage of CustomDataset\n",
        "train_dataset = CustomDataset(X_train, use_cols, y_train, transform=transforms.Compose([\n",
        "            transforms.Resize((224, 224)),\n",
        "            transforms.ToTensor(),\n",
        "        ]))\n",
        "\n",
        "(temp_img, temp_tab), temp_lab = train_dataset[2]\n",
        "plt.imshow(temp_img.numpy().transpose((1, 2, 0)))\n",
        "plt.title(\"label : \" + str(temp_lab.item()))\n",
        "plt.axis('off')\n",
        "plt.show()"
      ],
      "execution_count": 100,
      "outputs": [
        {
          "output_type": "display_data",
          "data": {
            "image/png": "[encoded data removed]",
            "text/plain": [
              "<Figure size 432x288 with 1 Axes>"
            ]
          },
          "metadata": {
            "tags": [],
            "needs_background": "light"
          }
        }
      ]
    },
    {
      "cell_type": "markdown",
      "metadata": {
        "id": "AKs2tyUYf5iG"
      },
      "source": [
        "### Load data for batch training\n",
        "- You can add more data augmentation if you want. (more can be found in: https://pytorch.org/vision/stable/transforms.html) \n",
        "    - transforms.ColorJitter()\n",
        "    - transforms.RandomHorizontalFlip()\n",
        "    - transforms.RandomAffine\n",
        "    - ...\n",
        "- You can decide whether to normalize the image by setting **normalize = True/False**.\n",
        "\n"
      ]
    },
    {
      "cell_type": "code",
      "metadata": {
        "id": "cf2gyBD8e8id"
      },
      "source": [
        "def imshow(inp, title=None, unnormalize = False):\n",
        "    \"\"\"\n",
        "    Helper function to visualize one batch of image tensor\n",
        "    \"\"\"\n",
        "    inp = inp.numpy().transpose((1, 2, 0))\n",
        "\n",
        "    if unnormalize:\n",
        "        mean = np.array([0.485, 0.456, 0.406])\n",
        "        std = np.array([0.229, 0.224, 0.225])\n",
        "        inp = std * inp + mean\n",
        "        inp = np.clip(inp, 0, 1)\n",
        "\n",
        "    plt.imshow(inp, cmap = plt.cm.bone)\n",
        "    if title is not None:\n",
        "        plt.title(title)\n",
        "    plt.pause(0.001)  # pause a bit so that plots are updated"
      ],
      "execution_count": 101,
      "outputs": []
    },
    {
      "cell_type": "code",
      "metadata": {
        "id": "jKeAejhb116L"
      },
      "source": [
        "def load_joint_data(data, normalize = False, show_images = True):\n",
        "    \"\"\"\n",
        "    loading data into dataloaders\n",
        "    \n",
        "    data: the dictionary that contains all the train/val/test\n",
        "    normalize: whether to normalize image by ([0.485, 0.456, 0.406], [0.229, 0.224, 0.225])\n",
        "    show_images: whether to show one batch of images\n",
        "    \"\"\"\n",
        "    if normalize:\n",
        "        data_transforms = {\n",
        "            'train': transforms.Compose([\n",
        "                transforms.RandomRotation(degrees = 5),\n",
        "                transforms.Resize((224, 224)),\n",
        "                transforms.ToTensor(),\n",
        "                transforms.Normalize([0.485, 0.456, 0.406], [0.229, 0.224, 0.225])\n",
        "            ]),\n",
        "            'val': transforms.Compose([\n",
        "                transforms.Resize((224, 224)),\n",
        "                transforms.ToTensor(),\n",
        "                transforms.Normalize([0.485, 0.456, 0.406], [0.229, 0.224, 0.225])\n",
        "            ]),\n",
        "            'test': transforms.Compose([\n",
        "                transforms.Resize((224, 224)),\n",
        "                transforms.ToTensor(),\n",
        "                transforms.Normalize([0.485, 0.456, 0.406], [0.229, 0.224, 0.225])\n",
        "            ]),\n",
        "        }\n",
        "    else:\n",
        "        data_transforms = {\n",
        "            'train': transforms.Compose([\n",
        "                transforms.RandomRotation(degrees = 5),\n",
        "                transforms.Resize((224, 224)),\n",
        "                transforms.ToTensor(),\n",
        "            ]),\n",
        "            'val': transforms.Compose([\n",
        "                transforms.Resize((224, 224)),\n",
        "                transforms.ToTensor(),\n",
        "            ]),\n",
        "            'test': transforms.Compose([\n",
        "                transforms.Resize((224, 224)),\n",
        "                transforms.ToTensor(),\n",
        "            ]),\n",
        "        }\n",
        "    \n",
        "    image_datasets = {x: CustomDataset(data[x]['df'], data[x]['cols'], data[x]['labels'], data_transforms[x]) \\\n",
        "                      for x in ['train', 'val', 'test']}\n",
        "\n",
        "    dataset_sizes = {x: len(image_datasets[x]) for x in ['train', 'val', 'test']}\n",
        "\n",
        "    #indices = {x: list(range(dataset_sizes[x])) for x in ['train', 'val', 'test']}\n",
        "\n",
        "    #sampler = {x: SubsetRandomSampler(indices[x]) for x in [\"train\", 'val', 'test']}\n",
        "\n",
        "    dataloaders = {x: DataLoader(image_datasets[x], batch_size=16, shuffle=True, num_workers=4) \\\n",
        "                   for x in ['train', 'val', 'test']}\n",
        "\n",
        "    dataset_sizes = {x: len(image_datasets[x]) for x in ['train', 'val', 'test']}\n",
        "\n",
        "    if show_images:\n",
        "        if normalize == True:\n",
        "            # Get a batch of training data\n",
        "            (img_inputs, _), classes = next(iter(dataloaders['train']))\n",
        "            # Make a grid from batch\n",
        "            out = torchvision.utils.make_grid(img_inputs)\n",
        "            imshow(out, title=[str(x.item()) for x in classes], unnormalize = True)\n",
        "        else:\n",
        "            # Get a batch of training data\n",
        "            (img_inputs, _), classes = next(iter(dataloaders['train']))\n",
        "            # Make a grid from batch\n",
        "            out = torchvision.utils.make_grid(img_inputs)\n",
        "            imshow(out, title=[str(x.item()) for x in classes])\n",
        "\n",
        "    return dataloaders, dataset_sizes, image_datasets"
      ],
      "execution_count": 102,
      "outputs": []
    },
    {
      "cell_type": "code",
      "metadata": {
        "id": "RCOjLiKZiQu6",
        "colab": {
          "base_uri": "https://localhost:8080/",
          "height": 165
        },
        "outputId": "6c3d052b-b5a5-4f4f-f7d2-9ee6202bbdc4"
      },
      "source": [
        "dataloaders, dataset_sizes, image_datasets = load_joint_data(joint_data, normalize = False, show_images=True)\n",
        "print(dataset_sizes)"
      ],
      "execution_count": 136,
      "outputs": [
        {
          "output_type": "display_data",
          "data": {
            "image/png": "[encoded data removed]",
            "text/plain": [
              "<Figure size 432x288 with 1 Axes>"
            ]
          },
          "metadata": {
            "tags": [],
            "needs_background": "light"
          }
        },
        {
          "output_type": "stream",
          "text": [
            "{'train': 2157, 'val': 300, 'test': 300}\n"
          ],
          "name": "stdout"
        }
      ]
    },
    {
      "cell_type": "markdown",
      "metadata": {
        "id": "DulVGozmpXPS"
      },
      "source": [
        "### Approach 1: Training single task CNN (Only predicting radio progression)\n"
      ]
    },
    {
      "cell_type": "code",
      "metadata": {
        "id": "JpyJ_FrEq09Y"
      },
      "source": [
        "def get_vgg_model(KL_pretrained = False):\n",
        "    \"\"\"\n",
        "    initialize vgg model, loss function, optimizer, scheduler\n",
        "    \"\"\"\n",
        "    model_ft = models.vgg16(pretrained = True)\n",
        "    model_ft.avgpool = nn.AdaptiveAvgPool2d(output_size=(1, 1))\n",
        "    \n",
        "    if KL_pretrained == True:\n",
        "        model_ft.classifier = nn.Sequential(\n",
        "                nn.Flatten(),\n",
        "                nn.Linear(512, 5),\n",
        "            )\n",
        "\n",
        "        #path to the model predicting KL_grade\n",
        "        PATH = '/content/drive/MyDrive/DL_models/KL_prediction.pt'\n",
        "        model_ft.load_state_dict(torch.load(PATH))\n",
        "        print(\"Load the pretrained weights\")\n",
        "    \n",
        "    model_ft.classifier = nn.Sequential(\n",
        "        nn.Flatten(),\n",
        "        nn.Linear(512, 1),\n",
        "    )\n",
        "\n",
        "    criterion = nn.BCEWithLogitsLoss()\n",
        "\n",
        "    optimizer = optim.Adam(model_ft.parameters(), lr = 0.00005)\n",
        "\n",
        "    # Decay LR by a factor of 0.5 every 5 epochs\n",
        "    scheduler = torch.optim.lr_scheduler.StepLR(optimizer, step_size=5, gamma=0.5, verbose = True)\n",
        "\n",
        "    return model_ft.to(device), criterion, optimizer, scheduler"
      ],
      "execution_count": 138,
      "outputs": []
    },
    {
      "cell_type": "code",
      "metadata": {
        "id": "MNOjedYffBCf"
      },
      "source": [
        "def train_image_model(model, criterion, optimizer, scheduler, threshold = 0.5, num_epochs=25):\n",
        "    \"\"\"\n",
        "    this training function trains the CNN model without including the risk factors. \n",
        "    \"\"\"\n",
        "    since = time.time()\n",
        "\n",
        "    #save the weights of best model (highest AUC)\n",
        "    best_model_wts = copy.deepcopy(model.state_dict())\n",
        "\n",
        "    best_acc, best_auc = 0.0, 0.0\n",
        "    train_acc_history, val_acc_history = [], []\n",
        "\n",
        "    #sigmoid activation for the final output\n",
        "    sigmoid = nn.Sigmoid()\n",
        "\n",
        "    for epoch in range(num_epochs):\n",
        "        print('Epoch {}/{}'.format(epoch, num_epochs - 1))\n",
        "        print('-' * 10)\n",
        "\n",
        "        # Each epoch has a training and validation phase\n",
        "        for phase in ['train', 'val']:\n",
        "            if phase == 'train':\n",
        "                model.train()  # Set model to training mode\n",
        "            else:\n",
        "                model.eval()   # Set model to evaluate mode\n",
        "                output_score, y_true = [], []\n",
        "\n",
        "            running_loss = 0.0\n",
        "            running_corrects = 0\n",
        "            correct_list = []\n",
        "\n",
        "            # Iterate over data.\n",
        "            for (img_inputs, _), labels in dataloaders[phase]:\n",
        "                inputs = img_inputs.to(device)\n",
        "                labels = labels.float().to(device)\n",
        "            \n",
        "                # zero the parameter gradients\n",
        "                optimizer.zero_grad()\n",
        "\n",
        "                # forward\n",
        "                with torch.set_grad_enabled(phase == 'train'):\n",
        "                    # output logits (action)\n",
        "                    outputs = model(inputs).squeeze(1)\n",
        "                    batch_correct = (sigmoid(outputs) > threshold) == labels\n",
        "                    # compute loss over logits\n",
        "                    batch_loss = criterion(outputs, labels)\n",
        "\n",
        "                    # backward + optimize only if in training phase\n",
        "                    if phase == 'train':\n",
        "                        batch_loss.backward()\n",
        "                        optimizer.step()\n",
        "                    else:\n",
        "                        # save the output probability and true label to compute AUC later\n",
        "                        output_score += sigmoid(outputs).cpu().detach().numpy().tolist()\n",
        "                        y_true += labels.cpu().detach().numpy().tolist()\n",
        "                \n",
        "                # statistics\n",
        "                running_loss += batch_loss.item() * inputs.shape[0]\n",
        "                correct_list += batch_correct.cpu().numpy().tolist()\n",
        "\n",
        "                # clear cache\n",
        "                del inputs, labels, outputs, batch_loss, batch_correct\n",
        "                torch.cuda.empty_cache()\n",
        "\n",
        "            if phase == 'train':\n",
        "                scheduler.step()\n",
        "\n",
        "            # train/val epoch average loss\n",
        "            epoch_loss = running_loss / dataset_sizes[phase]\n",
        "            # train/val epoch accuracy\n",
        "            epoch_acc = np.mean(correct_list)\n",
        "\n",
        "            if phase == 'val':\n",
        "                epoch_auc = roc_auc_score(y_true, output_score)\n",
        "                print('{} Loss: {:.4f} Acc: {:.4f}, AUC: {:.4f}'.format(\n",
        "                                phase, epoch_loss, epoch_acc, epoch_auc))\n",
        "                val_acc_history.append(epoch_acc)\n",
        "            else:\n",
        "                print('{} Loss: {:.4f} Acc: {:.4f}'.format(\n",
        "                                phase, epoch_loss, epoch_acc))\n",
        "                train_acc_history.append(epoch_acc)\n",
        "\n",
        "            # deep copy the model\n",
        "            if phase == 'val' and epoch_auc > best_auc:\n",
        "            #if phase == 'val' and epoch_loss < model_score:\n",
        "                best_auc = epoch_auc\n",
        "                best_acc = epoch_acc\n",
        "                best_model_wts = copy.deepcopy(model.state_dict())\n",
        "    print()\n",
        "\n",
        "    time_elapsed = time.time() - since\n",
        "    print('Training complete in {:.0f}m {:.0f}s'.format(\n",
        "        time_elapsed // 60, time_elapsed % 60))\n",
        "    print('Best val AUC:{:.4f}, Acc: {:4f}'.format(best_auc, best_acc))\n",
        "\n",
        "    # load best model weights\n",
        "    model.load_state_dict(best_model_wts)\n",
        "    return model, train_acc_history, val_acc_history"
      ],
      "execution_count": 70,
      "outputs": []
    },
    {
      "cell_type": "code",
      "metadata": {
        "id": "ztbBxLCffig5"
      },
      "source": [
        "def eval_image_model(model, criterion, threshold = 0.5, eval_set = 'val'):\n",
        "    \"\"\"\n",
        "    this evaluation function evaluates the CNN model. \n",
        "    \"\"\"\n",
        "    model.eval()\n",
        "\n",
        "    since = time.time()\n",
        "    loss_eval, acc_eval= 0, 0\n",
        "\n",
        "    # y_hat: predictions\n",
        "    # output_score: probabilities (compute AUC)\n",
        "    # y_true: ground truth\n",
        "    y_hat, output_score, y_true = [], [], []\n",
        "    sigmoid = nn.Sigmoid()\n",
        "    \n",
        "    test_batches = len(dataloaders[eval_set])\n",
        "    print(\"Evaluating model\")\n",
        "    print('-' * 10)\n",
        "    \n",
        "    for i, data in enumerate(dataloaders[eval_set]):\n",
        "        if i % 100 == 0:\n",
        "            print(\"\\rbatch {}/{}\".format(i, test_batches), end='', flush=True)\n",
        "            \n",
        "        (img_inputs, _), labels = data\n",
        "\n",
        "        inputs = img_inputs.to(device)\n",
        "        labels = labels.float().to(device)\n",
        "\n",
        "        outputs = model(inputs).squeeze(1)\n",
        "        is_correct = (sigmoid(outputs) > threshold) == labels\n",
        "        batch_loss = criterion(outputs, labels)\n",
        "\n",
        "        loss_eval += batch_loss.item() * inputs.shape[0]\n",
        "        acc_eval += torch.sum(is_correct)\n",
        "\n",
        "        output_score += sigmoid(outputs).cpu().detach().numpy().tolist()\n",
        "        y_true += labels.cpu().detach().numpy().tolist()\n",
        "        y_hat += (sigmoid(outputs) > threshold).cpu().numpy().tolist()\n",
        "\n",
        "        del inputs, labels, outputs, batch_loss\n",
        "        torch.cuda.empty_cache()\n",
        "        \n",
        "    avg_loss = loss_eval/ dataset_sizes[eval_set]\n",
        "    avg_acc = acc_eval / dataset_sizes[eval_set]\n",
        "    auc_score = roc_auc_score(y_true, output_score)\n",
        "    precision = precision_score(y_true, y_hat)\n",
        "    recall = recall_score(y_true, y_hat)\n",
        "    \n",
        "    elapsed_time = time.time() - since\n",
        "    print()\n",
        "    print(\"Evaluation completed in {:.0f}m {:.0f}s\".format(elapsed_time // 60, elapsed_time % 60))\n",
        "    print(\"Avg loss (test): {:.4f}\".format(avg_loss))\n",
        "    print(\"Avg acc (test): {:.4f}\".format(avg_acc))\n",
        "    print(\"Avg auc (test): {:.4f}\".format(auc_score))\n",
        "    print(\"Avg precision: {:.4f} recall: {:.4f}\".format(precision, recall))\n",
        "    print('-' * 10)\n",
        "\n",
        "    cm = confusion_matrix(y_true, y_hat)\n",
        "    df_cm = pd.DataFrame(cm, index = [0, 1], columns = [0, 1])\n",
        "    plt.figure(figsize = (8, 6))\n",
        "    sns.heatmap(df_cm, annot=True, fmt='.5g')\n",
        "    plt.xlabel(\"predicted\")\n",
        "    plt.ylabel(\"actual\")\n",
        "    plt.title(\"confusion matrix\")\n",
        "    plt.show()\n",
        "\n",
        "    return output_score, y_true, y_hat"
      ],
      "execution_count": 71,
      "outputs": []
    },
    {
      "cell_type": "code",
      "metadata": {
        "id": "HAV4LHCxgJm6",
        "colab": {
          "base_uri": "https://localhost:8080/"
        },
        "outputId": "5a94de92-a38a-41eb-b076-6b68c4d61641"
      },
      "source": [
        "model_ft, criterion, optimizer, scheduler = get_vgg_model(KL_pretrained = True)\n",
        "summary(model_ft, (3, 224, 224))"
      ],
      "execution_count": 140,
      "outputs": [
        {
          "output_type": "stream",
          "text": [
            "Adjusting learning rate of group 0 to 5.0000e-05.\n",
            "==========================================================================================\n",
            "Layer (type:depth-idx)                   Output Shape              Param #\n",
            "==========================================================================================\n",
            "├─Sequential: 1-1                        [-1, 512, 7, 7]           --\n",
            "|    └─Conv2d: 2-1                       [-1, 64, 224, 224]        1,792\n",
            "|    └─ReLU: 2-2                         [-1, 64, 224, 224]        --\n",
            "|    └─Conv2d: 2-3                       [-1, 64, 224, 224]        36,928\n",
            "|    └─ReLU: 2-4                         [-1, 64, 224, 224]        --\n",
            "|    └─MaxPool2d: 2-5                    [-1, 64, 112, 112]        --\n",
            "|    └─Conv2d: 2-6                       [-1, 128, 112, 112]       73,856\n",
            "|    └─ReLU: 2-7                         [-1, 128, 112, 112]       --\n",
            "|    └─Conv2d: 2-8                       [-1, 128, 112, 112]       147,584\n",
            "|    └─ReLU: 2-9                         [-1, 128, 112, 112]       --\n",
            "|    └─MaxPool2d: 2-10                   [-1, 128, 56, 56]         --\n",
            "|    └─Conv2d: 2-11                      [-1, 256, 56, 56]         295,168\n",
            "|    └─ReLU: 2-12                        [-1, 256, 56, 56]         --\n",
            "|    └─Conv2d: 2-13                      [-1, 256, 56, 56]         590,080\n",
            "|    └─ReLU: 2-14                        [-1, 256, 56, 56]         --\n",
            "|    └─Conv2d: 2-15                      [-1, 256, 56, 56]         590,080\n",
            "|    └─ReLU: 2-16                        [-1, 256, 56, 56]         --\n",
            "|    └─MaxPool2d: 2-17                   [-1, 256, 28, 28]         --\n",
            "|    └─Conv2d: 2-18                      [-1, 512, 28, 28]         1,180,160\n",
            "|    └─ReLU: 2-19                        [-1, 512, 28, 28]         --\n",
            "|    └─Conv2d: 2-20                      [-1, 512, 28, 28]         2,359,808\n",
            "|    └─ReLU: 2-21                        [-1, 512, 28, 28]         --\n",
            "|    └─Conv2d: 2-22                      [-1, 512, 28, 28]         2,359,808\n",
            "|    └─ReLU: 2-23                        [-1, 512, 28, 28]         --\n",
            "|    └─MaxPool2d: 2-24                   [-1, 512, 14, 14]         --\n",
            "|    └─Conv2d: 2-25                      [-1, 512, 14, 14]         2,359,808\n",
            "|    └─ReLU: 2-26                        [-1, 512, 14, 14]         --\n",
            "|    └─Conv2d: 2-27                      [-1, 512, 14, 14]         2,359,808\n",
            "|    └─ReLU: 2-28                        [-1, 512, 14, 14]         --\n",
            "|    └─Conv2d: 2-29                      [-1, 512, 14, 14]         2,359,808\n",
            "|    └─ReLU: 2-30                        [-1, 512, 14, 14]         --\n",
            "|    └─MaxPool2d: 2-31                   [-1, 512, 7, 7]           --\n",
            "├─AdaptiveAvgPool2d: 1-2                 [-1, 512, 1, 1]           --\n",
            "├─Sequential: 1-3                        [-1, 1]                   --\n",
            "|    └─Flatten: 2-32                     [-1, 512]                 --\n",
            "|    └─Linear: 2-33                      [-1, 1]                   513\n",
            "==========================================================================================\n",
            "Total params: 14,715,201\n",
            "Trainable params: 14,715,201\n",
            "Non-trainable params: 0\n",
            "Total mult-adds (G): 15.36\n",
            "==========================================================================================\n",
            "Input size (MB): 0.57\n",
            "Forward/backward pass size (MB): 103.36\n",
            "Params size (MB): 56.13\n",
            "Estimated Total Size (MB): 160.07\n",
            "==========================================================================================\n"
          ],
          "name": "stdout"
        },
        {
          "output_type": "execute_result",
          "data": {
            "text/plain": [
              "==========================================================================================\n",
              "Layer (type:depth-idx)                   Output Shape              Param #\n",
              "==========================================================================================\n",
              "├─Sequential: 1-1                        [-1, 512, 7, 7]           --\n",
              "|    └─Conv2d: 2-1                       [-1, 64, 224, 224]        1,792\n",
              "|    └─ReLU: 2-2                         [-1, 64, 224, 224]        --\n",
              "|    └─Conv2d: 2-3                       [-1, 64, 224, 224]        36,928\n",
              "|    └─ReLU: 2-4                         [-1, 64, 224, 224]        --\n",
              "|    └─MaxPool2d: 2-5                    [-1, 64, 112, 112]        --\n",
              "|    └─Conv2d: 2-6                       [-1, 128, 112, 112]       73,856\n",
              "|    └─ReLU: 2-7                         [-1, 128, 112, 112]       --\n",
              "|    └─Conv2d: 2-8                       [-1, 128, 112, 112]       147,584\n",
              "|    └─ReLU: 2-9                         [-1, 128, 112, 112]       --\n",
              "|    └─MaxPool2d: 2-10                   [-1, 128, 56, 56]         --\n",
              "|    └─Conv2d: 2-11                      [-1, 256, 56, 56]         295,168\n",
              "|    └─ReLU: 2-12                        [-1, 256, 56, 56]         --\n",
              "|    └─Conv2d: 2-13                      [-1, 256, 56, 56]         590,080\n",
              "|    └─ReLU: 2-14                        [-1, 256, 56, 56]         --\n",
              "|    └─Conv2d: 2-15                      [-1, 256, 56, 56]         590,080\n",
              "|    └─ReLU: 2-16                        [-1, 256, 56, 56]         --\n",
              "|    └─MaxPool2d: 2-17                   [-1, 256, 28, 28]         --\n",
              "|    └─Conv2d: 2-18                      [-1, 512, 28, 28]         1,180,160\n",
              "|    └─ReLU: 2-19                        [-1, 512, 28, 28]         --\n",
              "|    └─Conv2d: 2-20                      [-1, 512, 28, 28]         2,359,808\n",
              "|    └─ReLU: 2-21                        [-1, 512, 28, 28]         --\n",
              "|    └─Conv2d: 2-22                      [-1, 512, 28, 28]         2,359,808\n",
              "|    └─ReLU: 2-23                        [-1, 512, 28, 28]         --\n",
              "|    └─MaxPool2d: 2-24                   [-1, 512, 14, 14]         --\n",
              "|    └─Conv2d: 2-25                      [-1, 512, 14, 14]         2,359,808\n",
              "|    └─ReLU: 2-26                        [-1, 512, 14, 14]         --\n",
              "|    └─Conv2d: 2-27                      [-1, 512, 14, 14]         2,359,808\n",
              "|    └─ReLU: 2-28                        [-1, 512, 14, 14]         --\n",
              "|    └─Conv2d: 2-29                      [-1, 512, 14, 14]         2,359,808\n",
              "|    └─ReLU: 2-30                        [-1, 512, 14, 14]         --\n",
              "|    └─MaxPool2d: 2-31                   [-1, 512, 7, 7]           --\n",
              "├─AdaptiveAvgPool2d: 1-2                 [-1, 512, 1, 1]           --\n",
              "├─Sequential: 1-3                        [-1, 1]                   --\n",
              "|    └─Flatten: 2-32                     [-1, 512]                 --\n",
              "|    └─Linear: 2-33                      [-1, 1]                   513\n",
              "==========================================================================================\n",
              "Total params: 14,715,201\n",
              "Trainable params: 14,715,201\n",
              "Non-trainable params: 0\n",
              "Total mult-adds (G): 15.36\n",
              "==========================================================================================\n",
              "Input size (MB): 0.57\n",
              "Forward/backward pass size (MB): 103.36\n",
              "Params size (MB): 56.13\n",
              "Estimated Total Size (MB): 160.07\n",
              "=========================================================================================="
            ]
          },
          "metadata": {
            "tags": []
          },
          "execution_count": 140
        }
      ]
    },
    {
      "cell_type": "code",
      "metadata": {
        "colab": {
          "base_uri": "https://localhost:8080/"
        },
        "id": "qSnFubZefyE9",
        "outputId": "37735dad-c09f-4a43-c28d-fdfcffaec181"
      },
      "source": [
        "best_model, train_acc_hist, val_acc_hist = \\\n",
        "train_image_model(model_ft, criterion, optimizer, scheduler, threshold = 0.5, num_epochs=15)"
      ],
      "execution_count": 141,
      "outputs": [
        {
          "output_type": "stream",
          "text": [
            "Epoch 0/14\n",
            "----------\n",
            "Adjusting learning rate of group 0 to 5.0000e-05.\n",
            "train Loss: 0.6771 Acc: 0.5865\n",
            "val Loss: 0.6685 Acc: 0.6500, AUC: 0.6738\n",
            "Epoch 1/14\n",
            "----------\n",
            "Adjusting learning rate of group 0 to 5.0000e-05.\n",
            "train Loss: 0.6437 Acc: 0.6467\n",
            "val Loss: 0.6505 Acc: 0.6500, AUC: 0.6987\n",
            "Epoch 2/14\n",
            "----------\n",
            "Adjusting learning rate of group 0 to 5.0000e-05.\n",
            "train Loss: 0.6143 Acc: 0.6597\n",
            "val Loss: 0.6359 Acc: 0.6333, AUC: 0.6805\n",
            "Epoch 3/14\n",
            "----------\n",
            "Adjusting learning rate of group 0 to 5.0000e-05.\n",
            "train Loss: 0.5966 Acc: 0.6889\n",
            "val Loss: 0.6361 Acc: 0.6633, AUC: 0.6909\n",
            "Epoch 4/14\n",
            "----------\n",
            "Adjusting learning rate of group 0 to 2.5000e-05.\n",
            "train Loss: 0.5596 Acc: 0.7065\n",
            "val Loss: 0.6440 Acc: 0.6533, AUC: 0.7046\n",
            "Epoch 5/14\n",
            "----------\n",
            "Adjusting learning rate of group 0 to 2.5000e-05.\n",
            "train Loss: 0.5001 Acc: 0.7552\n",
            "val Loss: 0.6765 Acc: 0.6267, AUC: 0.6851\n",
            "Epoch 6/14\n",
            "----------\n",
            "Adjusting learning rate of group 0 to 2.5000e-05.\n",
            "train Loss: 0.4673 Acc: 0.7812\n",
            "val Loss: 0.7415 Acc: 0.6400, AUC: 0.6851\n",
            "Epoch 7/14\n",
            "----------\n",
            "Adjusting learning rate of group 0 to 2.5000e-05.\n",
            "train Loss: 0.4273 Acc: 0.8016\n",
            "val Loss: 0.7998 Acc: 0.6333, AUC: 0.6799\n",
            "Epoch 8/14\n",
            "----------\n",
            "Adjusting learning rate of group 0 to 2.5000e-05.\n",
            "train Loss: 0.3643 Acc: 0.8363\n",
            "val Loss: 0.8563 Acc: 0.6333, AUC: 0.6908\n",
            "Epoch 9/14\n",
            "----------\n",
            "Adjusting learning rate of group 0 to 1.2500e-05.\n",
            "train Loss: 0.3273 Acc: 0.8595\n",
            "val Loss: 0.8336 Acc: 0.6267, AUC: 0.6895\n",
            "Epoch 10/14\n",
            "----------\n",
            "Adjusting learning rate of group 0 to 1.2500e-05.\n",
            "train Loss: 0.2266 Acc: 0.9087\n",
            "val Loss: 0.9426 Acc: 0.6633, AUC: 0.6971\n",
            "Epoch 11/14\n",
            "----------\n",
            "Adjusting learning rate of group 0 to 1.2500e-05.\n",
            "train Loss: 0.1804 Acc: 0.9263\n",
            "val Loss: 1.1348 Acc: 0.6433, AUC: 0.6963\n",
            "Epoch 12/14\n",
            "----------\n",
            "Adjusting learning rate of group 0 to 1.2500e-05.\n",
            "train Loss: 0.1494 Acc: 0.9448\n",
            "val Loss: 1.1963 Acc: 0.6400, AUC: 0.6921\n",
            "Epoch 13/14\n",
            "----------\n",
            "Adjusting learning rate of group 0 to 1.2500e-05.\n",
            "train Loss: 0.0991 Acc: 0.9694\n",
            "val Loss: 1.3455 Acc: 0.6500, AUC: 0.6975\n",
            "Epoch 14/14\n",
            "----------\n",
            "Adjusting learning rate of group 0 to 6.2500e-06.\n",
            "train Loss: 0.0935 Acc: 0.9671\n",
            "val Loss: 1.4871 Acc: 0.6267, AUC: 0.6820\n",
            "\n",
            "Training complete in 6m 57s\n",
            "Best val AUC:0.7046, Acc: 0.653333\n"
          ],
          "name": "stdout"
        }
      ]
    },
    {
      "cell_type": "code",
      "metadata": {
        "colab": {
          "base_uri": "https://localhost:8080/",
          "height": 564
        },
        "id": "jOAdHj58ggOs",
        "outputId": "229e9047-74f3-4900-d58c-d078969d3d76"
      },
      "source": [
        "output_score, y_true, output_list = eval_image_model(best_model, criterion, threshold = 0.5, eval_set = 'test')"
      ],
      "execution_count": 142,
      "outputs": [
        {
          "output_type": "stream",
          "text": [
            "Evaluating model\n",
            "----------\n",
            "batch 0/19\n",
            "Evaluation completed in 0m 3s\n",
            "Avg loss (test): 0.6306\n",
            "Avg acc (test): 0.6733\n",
            "Avg auc (test): 0.7210\n",
            "Avg precision: 0.6710 recall: 0.6887\n",
            "----------\n"
          ],
          "name": "stdout"
        },
        {
          "output_type": "display_data",
          "data": {
            "image/png": "[encoded data removed]",
            "text/plain": [
              "<Figure size 576x432 with 2 Axes>"
            ]
          },
          "metadata": {
            "tags": [],
            "needs_background": "light"
          }
        }
      ]
    },
    {
      "cell_type": "markdown",
      "metadata": {
        "id": "jUyNxV44tQew"
      },
      "source": [
        "### Visualize the saliency map"
      ]
    },
    {
      "cell_type": "code",
      "metadata": {
        "colab": {
          "base_uri": "https://localhost:8080/"
        },
        "id": "EDr3QTghD5XG",
        "outputId": "e913927e-d43f-4eed-fca5-8cfbb583f260"
      },
      "source": [
        "print(X_test['Img_path'][:5], y_test.tolist()[:5])"
      ],
      "execution_count": 135,
      "outputs": [
        {
          "output_type": "stream",
          "text": [
            "1230    /content/drive/MyDrive/OAI_data/complete_images/9903903_1.png\n",
            "279     /content/drive/MyDrive/OAI_data/complete_images/9254422_1.png\n",
            "307     /content/drive/MyDrive/OAI_data/complete_images/9273964_1.png\n",
            "890     /content/drive/MyDrive/OAI_data/complete_images/9675129_2.png\n",
            "1113    /content/drive/MyDrive/OAI_data/complete_images/9833809_1.png\n",
            "Name: Img_path, dtype: object [1.0, 1.0, 1.0, 1.0, 1.0]\n"
          ],
          "name": "stdout"
        }
      ]
    },
    {
      "cell_type": "code",
      "metadata": {
        "colab": {
          "base_uri": "https://localhost:8080/",
          "height": 514
        },
        "id": "YjQAll7fJzdS",
        "outputId": "b5cf9bfd-066b-44c6-e12e-b848841fe1b4"
      },
      "source": [
        "from PIL import Image\n",
        "\n",
        "# Open the image file\n",
        "image = Image.open(\"/content/drive/MyDrive/OAI_data/complete_images/9833809_1.png\")\n",
        "\n",
        "# Set up the transformations\n",
        "transform_ = transforms.Compose([\n",
        "        transforms.Resize((224, 224)),\n",
        "\t\ttransforms.ToTensor(),\n",
        "])\n",
        "\n",
        "# Transforms the image\n",
        "image = transform_(image)\n",
        "image = image.reshape(1, 3, 224, 224).to(device)\n",
        "image.requires_grad_()\n",
        "\n",
        "model_ft.eval()\n",
        "output = model_ft(image)\n",
        "print(output.squeeze().item())\n",
        "m = nn.Sigmoid()\n",
        "print(m(output).squeeze().item())\n",
        "\n",
        "# Catch the output\n",
        "# Do backpropagation to get the derivative of the output based on the image\n",
        "output.backward()\n",
        "saliency, _ = torch.max(image.grad.data.abs(),dim=1)\n",
        "\n",
        "saliency = saliency.reshape(224, 224)\n",
        "\n",
        "# Reshape the image\n",
        "image = image.reshape(-1, 224, 224)\n",
        "\n",
        "# Visualize the image and the saliency map\n",
        "fig, ax = plt.subplots(1, 2, figsize = (10, 8))\n",
        "ax[0].imshow(image.cpu().detach().numpy().transpose(1, 2, 0), cmap =  'RdGy')\n",
        "ax[0].axis('off')\n",
        "ax[1].imshow(saliency.cpu(), cmap =  'RdGy')\n",
        "ax[1].axis('off')\n",
        "plt.tight_layout()\n",
        "fig.suptitle('The Image and Its Saliency Map')\n",
        "plt.show()"
      ],
      "execution_count": 145,
      "outputs": [
        {
          "output_type": "stream",
          "text": [
            "0.9118573665618896\n",
            "0.7133800983428955\n"
          ],
          "name": "stdout"
        },
        {
          "output_type": "display_data",
          "data": {
            "image/png": "[encoded data removed]",
            "text/plain": [
              "<Figure size 720x576 with 2 Axes>"
            ]
          },
          "metadata": {
            "tags": [],
            "needs_background": "light"
          }
        }
      ]
    },
    {
      "cell_type": "markdown",
      "metadata": {
        "id": "5f8iFkFLtn0B"
      },
      "source": [
        "### PR curve and ROC"
      ]
    },
    {
      "cell_type": "code",
      "metadata": {
        "id": "rv8SeI6Bg3sl",
        "colab": {
          "base_uri": "https://localhost:8080/",
          "height": 374
        },
        "outputId": "e49ba583-69a1-4eb1-8c5a-48da19dd5141"
      },
      "source": [
        "#Precision recall curve\n",
        "from sklearn.metrics import precision_recall_curve\n",
        "precisions, recalls, thresholds = precision_recall_curve(y_true, output_score)\n",
        "\n",
        "def plot_precision_recall_vs_threshold(precisions, recalls, thresholds):\n",
        "    plt.figure(figsize = (8, 6))\n",
        "    plt.plot(thresholds, precisions[:-1], 'b--', label = 'precision')\n",
        "    plt.plot(thresholds, recalls[:-1], 'g--', label = 'recall')\n",
        "    plt.legend()\n",
        "\n",
        "plot_precision_recall_vs_threshold(precisions, recalls, thresholds)"
      ],
      "execution_count": 146,
      "outputs": [
        {
          "output_type": "display_data",
          "data": {
            "image/png": "[encoded data removed]",
            "text/plain": [
              "<Figure size 576x432 with 1 Axes>"
            ]
          },
          "metadata": {
            "tags": [],
            "needs_background": "light"
          }
        }
      ]
    },
    {
      "cell_type": "code",
      "metadata": {
        "id": "kLxPUT55g9Oc",
        "colab": {
          "base_uri": "https://localhost:8080/",
          "height": 483
        },
        "outputId": "eac5da34-067b-4674-f565-b3a896266a36"
      },
      "source": [
        "#ROC\n",
        "from sklearn.metrics import roc_curve\n",
        "fpr, tpr, thresholds = roc_curve(y_true, output_score)\n",
        "plt.figure(figsize = (8, 8))\n",
        "plt.plot(fpr, tpr, marker='.')\n",
        "plt.show()"
      ],
      "execution_count": 147,
      "outputs": [
        {
          "output_type": "display_data",
          "data": {
            "image/png": "[encoded data removed]",
            "text/plain": [
              "<Figure size 576x576 with 1 Axes>"
            ]
          },
          "metadata": {
            "tags": [],
            "needs_background": "light"
          }
        }
      ]
    },
    {
      "cell_type": "code",
      "metadata": {
        "id": "kKA7WNEGhC5O"
      },
      "source": [
        "#save model weights\n",
        "PATH = '/content/drive/MyDrive/DL_models/KL_based_vgg.pt'\n",
        "torch.save(model_ft.state_dict(), PATH)"
      ],
      "execution_count": 148,
      "outputs": []
    },
    {
      "cell_type": "markdown",
      "metadata": {
        "id": "vD7s-u-huMEE"
      },
      "source": [
        "### Training function for the Joint Model (Image + Risk factors)"
      ]
    },
    {
      "cell_type": "code",
      "metadata": {
        "id": "5-spiNhrrfGq"
      },
      "source": [
        "def train_joint_model(model, criterion, optimizer, scheduler, freeze_cnn = False, threshold = 0.5, num_epochs=25):\n",
        "    since = time.time()\n",
        "\n",
        "    best_model_wts = copy.deepcopy(model.state_dict())\n",
        "    best_acc, best_auc = 0.0, 0.0\n",
        "\n",
        "    # accuracy history for training and validation\n",
        "    train_acc_history, val_acc_history = [], []\n",
        "\n",
        "    #sigmoid activation for the final output\n",
        "    sigmoid = nn.Sigmoid()\n",
        "    \n",
        "    if freeze_cnn:\n",
        "        for param in model.cnn.parameters():\n",
        "            param.requires_grad = False\n",
        "\n",
        "    for epoch in range(num_epochs):\n",
        "        print('Epoch {}/{}'.format(epoch, num_epochs - 1))\n",
        "        print('-' * 10)\n",
        "\n",
        "        if freeze_cnn == False:\n",
        "            #only freeze cnn parameters in the first epoch\n",
        "            if epoch == 0:\n",
        "                for param in model.cnn.parameters():\n",
        "                    param.requires_grad = False\n",
        "                optimizer = optim.Adam(joint_model.parameters(), lr = 0.001)\n",
        "            #unfreeze all parameters\n",
        "            else:\n",
        "                for param in model.cnn.parameters():\n",
        "                    param.requires_grad = True\n",
        "                optimizer = optim.Adam(joint_model.parameters(), lr = 0.00005)\n",
        "\n",
        "        # Each epoch has a training and validation phase\n",
        "        for phase in ['train', 'val']:\n",
        "            if phase == 'train':\n",
        "                model.train()  # Set model to training mode\n",
        "            else:\n",
        "                model.eval()   # Set model to evaluate mode\n",
        "                output_score, y_true = [], []\n",
        "\n",
        "            running_loss = 0.0\n",
        "            running_corrects = 0\n",
        "            correct_list = []\n",
        "\n",
        "            # Iterate over data.\n",
        "            for (image_inputs, tab_inputs), labels in dataloaders[phase]:\n",
        "                \n",
        "                image_inputs = image_inputs.to(device)\n",
        "                labels = labels.float().to(device)\n",
        "                tab_inputs = tab_inputs.to(device)\n",
        "                \n",
        "                # zero the parameter gradients\n",
        "                optimizer.zero_grad()\n",
        "\n",
        "                # forward\n",
        "                # track history if only in train\n",
        "                with torch.set_grad_enabled(phase == 'train'):\n",
        "                    # output logits (action)\n",
        "                    outputs = model(image_inputs, tab_inputs).squeeze(1)\n",
        "                    batch_correct = (sigmoid(outputs) > threshold) == labels\n",
        "                    # compute loss over logits\n",
        "                    batch_loss = criterion(outputs, labels)\n",
        "\n",
        "                    # backward + optimize only if in training phase\n",
        "                    if phase == 'train':\n",
        "                        batch_loss.backward()\n",
        "                        optimizer.step()\n",
        "                    else:\n",
        "                        # save the output probability and true label to compute AUC\n",
        "                        output_score += sigmoid(outputs).cpu().detach().numpy().tolist()\n",
        "                        y_true += labels.cpu().detach().numpy().tolist()\n",
        "                \n",
        "                # statistics\n",
        "                running_loss += batch_loss.item() * image_inputs.shape[0]\n",
        "                correct_list += batch_correct.cpu().numpy().tolist()\n",
        "\n",
        "                # clear cache\n",
        "                del image_inputs, tab_inputs, labels, outputs, batch_loss, batch_correct\n",
        "                torch.cuda.empty_cache()\n",
        "\n",
        "            if phase == 'train':\n",
        "                scheduler.step()\n",
        "\n",
        "            # train/val epoch average loss\n",
        "            epoch_loss = running_loss / dataset_sizes[phase]\n",
        "            # train/val epoch accuracy\n",
        "            epoch_acc = np.mean(correct_list)\n",
        "\n",
        "            if phase == 'val':\n",
        "                epoch_auc = roc_auc_score(y_true, output_score)\n",
        "                print('{} Loss: {:.4f} Acc: {:.4f}, AUC: {:.4f}'.format(\n",
        "                                phase, epoch_loss, epoch_acc, epoch_auc))\n",
        "                val_acc_history.append(epoch_acc)\n",
        "                \n",
        "                #scheduler.step(epoch_auc)\n",
        "            else:\n",
        "                print('{} Loss: {:.4f} Acc: {:.4f}'.format(\n",
        "                                phase, epoch_loss, epoch_acc))\n",
        "                train_acc_history.append(epoch_acc)\n",
        "\n",
        "            # deep copy the model\n",
        "            if phase == 'val' and epoch_auc > best_auc:\n",
        "            #if phase == 'val' and epoch_loss < model_score:\n",
        "                best_auc = epoch_auc\n",
        "                best_acc = epoch_acc\n",
        "                best_model_wts = copy.deepcopy(model.state_dict())\n",
        "            \n",
        "            #scheduler.step()\n",
        "    \n",
        "    print()\n",
        "\n",
        "    time_elapsed = time.time() - since\n",
        "    print('Training complete in {:.0f}m {:.0f}s'.format(\n",
        "        time_elapsed // 60, time_elapsed % 60))\n",
        "    print('Best val AUC:{:.4f}, Acc: {:4f}'.format(best_auc, best_acc))\n",
        "\n",
        "    # load best model weights\n",
        "    model.load_state_dict(best_model_wts)\n",
        "    return model, train_acc_history, val_acc_history"
      ],
      "execution_count": 162,
      "outputs": []
    },
    {
      "cell_type": "code",
      "metadata": {
        "id": "TXT6iYcexl9b"
      },
      "source": [
        "def eval_joint_model(model, criterion, threshold = 0.5, eval_set = 'val'):\n",
        "    model.eval()\n",
        "\n",
        "    since = time.time()\n",
        "    loss_eval, acc_eval= 0, 0\n",
        "\n",
        "    y_hat, output_score, y_true = [], [], []\n",
        "    sigmoid = nn.Sigmoid()\n",
        "    \n",
        "    test_batches = len(dataloaders[eval_set])\n",
        "    print(\"Evaluating model\")\n",
        "    print('-' * 10)\n",
        "    \n",
        "    for (image_inputs, tab_inputs), labels in dataloaders[eval_set]:\n",
        "\n",
        "        image_inputs = image_inputs.to(device)\n",
        "        labels = labels.float().to(device)\n",
        "        tab_inputs = tab_inputs.to(device)\n",
        "    \n",
        "        outputs = model(image_inputs, tab_inputs).squeeze(1)\n",
        "        is_correct = (sigmoid(outputs) > threshold) == labels\n",
        "        batch_loss = criterion(outputs, labels)\n",
        "\n",
        "        loss_eval += batch_loss.item() * image_inputs.shape[0]\n",
        "        acc_eval += torch.sum(is_correct)\n",
        "\n",
        "        output_score += sigmoid(outputs).cpu().detach().numpy().tolist()\n",
        "        y_true += labels.cpu().detach().numpy().tolist()\n",
        "        y_hat += (sigmoid(outputs) > threshold).cpu().numpy().tolist()\n",
        "\n",
        "        del image_inputs, tab_inputs, labels, outputs, batch_loss\n",
        "        torch.cuda.empty_cache()\n",
        "        \n",
        "    avg_loss = loss_eval/ dataset_sizes[eval_set]\n",
        "    avg_acc = acc_eval / dataset_sizes[eval_set]\n",
        "    auc_score = roc_auc_score(y_true, output_score)\n",
        "    precision = precision_score(y_true, y_hat)\n",
        "    recall = recall_score(y_true, y_hat)\n",
        "    \n",
        "    elapsed_time = time.time() - since\n",
        "    print()\n",
        "    print(\"Evaluation completed in {:.0f}m {:.0f}s\".format(elapsed_time // 60, elapsed_time % 60))\n",
        "    print(\"Avg loss (test): {:.4f}\".format(avg_loss))\n",
        "    print(\"Avg acc (test): {:.4f}\".format(avg_acc))\n",
        "    print(\"Avg auc (test): {:.4f}\".format(auc_score))\n",
        "    print(\"Avg precision: {:.4f} recall: {:.4f}\".format(precision, recall))\n",
        "    print('-' * 10)\n",
        "\n",
        "    cm = confusion_matrix(y_true, y_hat)\n",
        "    df_cm = pd.DataFrame(cm, index = [0, 1], columns = [0, 1])\n",
        "    plt.figure(figsize = (8, 6))\n",
        "    sns.heatmap(df_cm, annot=True, fmt='.5g')\n",
        "    plt.xlabel(\"predicted\")\n",
        "    plt.ylabel(\"actual\")\n",
        "    plt.title(\"confusion matrix\")\n",
        "    plt.show()\n",
        "\n",
        "    return output_score, y_true, y_hat"
      ],
      "execution_count": 163,
      "outputs": []
    },
    {
      "cell_type": "code",
      "metadata": {
        "id": "C89Xa45Sxowe"
      },
      "source": [
        "class Joint_Model(nn.Module):\n",
        "    def __init__(self, cnn_path):\n",
        "        super(Joint_Model, self).__init__()\n",
        "        self.cnn = models.vgg16(pretrained = True)\n",
        "        self.cnn.avgpool = nn.AdaptiveAvgPool2d(output_size=(1, 1))\n",
        "        self.cnn.classifier = nn.Sequential(\n",
        "            nn.Flatten(),\n",
        "            nn.Linear(512, 1),\n",
        "        )\n",
        "\n",
        "        PATH = cnn_path\n",
        "        print(self.cnn.load_state_dict(torch.load(PATH)))\n",
        "\n",
        "        self.cnn.classifier = nn.Sequential(nn.Flatten())\n",
        "        self.fc1 = nn.Linear(14, 128)\n",
        "        self.head = nn.Linear(512 + 128, 1)\n",
        "        \n",
        "    def forward(self, image, data):\n",
        "        x1 = self.cnn(image)\n",
        "        x2 = self.fc1(data)\n",
        "\n",
        "        x = torch.cat((x1, x2), dim=1)\n",
        "        x = self.head(x)\n",
        "        return x\n",
        "        \n",
        "\n",
        "def get_joint_model(cnn_path, freeze_cnn = False):\n",
        "\n",
        "    joint_model = Joint_Model(cnn_path)\n",
        "\n",
        "    criterion = nn.BCEWithLogitsLoss()\n",
        "\n",
        "    if freeze_cnn:\n",
        "        optimizer = optim.Adam(joint_model.parameters(), lr = 0.001)\n",
        "    else:\n",
        "        optimizer = optim.Adam(joint_model.parameters(), lr = 0.00005)\n",
        "\n",
        "    # Decay LR by a factor of 0.8 every 3 epochs\n",
        "    scheduler = torch.optim.lr_scheduler.StepLR(optimizer, step_size=3, gamma=0.8, verbose = True)\n",
        "\n",
        "    return joint_model.to(device), criterion, optimizer, scheduler"
      ],
      "execution_count": 167,
      "outputs": []
    },
    {
      "cell_type": "code",
      "metadata": {
        "colab": {
          "base_uri": "https://localhost:8080/"
        },
        "id": "UXR0IFGhxrT3",
        "outputId": "4c01203c-86d3-49f5-8ebf-bd1d56ddf1bc"
      },
      "source": [
        "#freeze the CNN weights\n",
        "joint_model, criterion, optimizer, scheduler = get_joint_model(cnn_path = '/content/drive/MyDrive/DL_models/KL_based_vgg.pt', freeze_cnn=True)\n",
        "best_joint_model, train_acc_hist, val_acc_hist = train_joint_model(joint_model, criterion, optimizer, scheduler, freeze_cnn=True, threshold = 0.5, num_epochs=10)"
      ],
      "execution_count": 174,
      "outputs": [
        {
          "output_type": "stream",
          "text": [
            "<All keys matched successfully>\n",
            "Adjusting learning rate of group 0 to 1.0000e-03.\n",
            "Epoch 0/9\n",
            "----------\n",
            "Adjusting learning rate of group 0 to 1.0000e-03.\n",
            "train Loss: 0.5708 Acc: 0.6968\n",
            "val Loss: 0.7279 Acc: 0.6433, AUC: 0.7058\n",
            "Epoch 1/9\n",
            "----------\n",
            "Adjusting learning rate of group 0 to 1.0000e-03.\n",
            "train Loss: 0.5225 Acc: 0.7427\n",
            "val Loss: 0.7039 Acc: 0.6667, AUC: 0.7117\n",
            "Epoch 2/9\n",
            "----------\n",
            "Adjusting learning rate of group 0 to 8.0000e-04.\n",
            "train Loss: 0.5169 Acc: 0.7432\n",
            "val Loss: 0.6914 Acc: 0.6633, AUC: 0.7059\n",
            "Epoch 3/9\n",
            "----------\n",
            "Adjusting learning rate of group 0 to 8.0000e-04.\n",
            "train Loss: 0.5022 Acc: 0.7413\n",
            "val Loss: 0.7336 Acc: 0.6667, AUC: 0.7039\n",
            "Epoch 4/9\n",
            "----------\n",
            "Adjusting learning rate of group 0 to 8.0000e-04.\n",
            "train Loss: 0.5032 Acc: 0.7506\n",
            "val Loss: 0.7191 Acc: 0.6433, AUC: 0.7151\n",
            "Epoch 5/9\n",
            "----------\n",
            "Adjusting learning rate of group 0 to 6.4000e-04.\n",
            "train Loss: 0.4957 Acc: 0.7617\n",
            "val Loss: 0.6836 Acc: 0.6467, AUC: 0.7126\n",
            "Epoch 6/9\n",
            "----------\n",
            "Adjusting learning rate of group 0 to 6.4000e-04.\n",
            "train Loss: 0.4916 Acc: 0.7529\n",
            "val Loss: 0.6929 Acc: 0.6667, AUC: 0.7052\n",
            "Epoch 7/9\n",
            "----------\n",
            "Adjusting learning rate of group 0 to 6.4000e-04.\n",
            "train Loss: 0.4912 Acc: 0.7534\n",
            "val Loss: 0.6792 Acc: 0.6467, AUC: 0.7059\n",
            "Epoch 8/9\n",
            "----------\n",
            "Adjusting learning rate of group 0 to 5.1200e-04.\n",
            "train Loss: 0.4895 Acc: 0.7552\n",
            "val Loss: 0.6695 Acc: 0.6400, AUC: 0.7040\n",
            "Epoch 9/9\n",
            "----------\n",
            "Adjusting learning rate of group 0 to 5.1200e-04.\n",
            "train Loss: 0.4891 Acc: 0.7557\n",
            "val Loss: 0.6871 Acc: 0.6367, AUC: 0.7111\n",
            "\n",
            "Training complete in 4m 26s\n",
            "Best val AUC:0.7151, Acc: 0.643333\n"
          ],
          "name": "stdout"
        }
      ]
    },
    {
      "cell_type": "code",
      "metadata": {
        "id": "Sa2xmWvPxutV",
        "colab": {
          "base_uri": "https://localhost:8080/",
          "height": 564
        },
        "outputId": "1fceff9d-4664-485e-e001-7e2dfa76bb63"
      },
      "source": [
        "output_score, y_true, output_list = eval_joint_model(best_joint_model, criterion, threshold = 0.5, eval_set = 'test')"
      ],
      "execution_count": 175,
      "outputs": [
        {
          "output_type": "stream",
          "text": [
            "Evaluating model\n",
            "----------\n",
            "\n",
            "Evaluation completed in 0m 3s\n",
            "Avg loss (test): 0.7211\n",
            "Avg acc (test): 0.6467\n",
            "Avg auc (test): 0.7198\n",
            "Avg precision: 0.6119 recall: 0.8146\n",
            "----------\n"
          ],
          "name": "stdout"
        },
        {
          "output_type": "display_data",
          "data": {
            "image/png": "[encoded data removed]",
            "text/plain": [
              "<Figure size 576x432 with 2 Axes>"
            ]
          },
          "metadata": {
            "tags": [],
            "needs_background": "light"
          }
        }
      ]
    },
    {
      "cell_type": "code",
      "metadata": {
        "colab": {
          "base_uri": "https://localhost:8080/"
        },
        "id": "nhcbZX-Md5ju",
        "outputId": "456a58ff-06d1-43c7-bc8e-53fbe968382a"
      },
      "source": [
        "#unfreeze the CNN weights\n",
        "joint_model, criterion, optimizer, scheduler = get_joint_model(cnn_path = '/content/drive/MyDrive/DL_models/KL_based_vgg.pt', freeze_cnn=False)\n",
        "best_joint_model, train_acc_hist, val_acc_hist = train_joint_model(joint_model, criterion, optimizer, scheduler, freeze_cnn=False, threshold = 0.5, num_epochs=20)"
      ],
      "execution_count": 172,
      "outputs": [
        {
          "output_type": "stream",
          "text": [
            "<All keys matched successfully>\n",
            "Adjusting learning rate of group 0 to 5.0000e-05.\n",
            "Epoch 0/19\n",
            "----------\n",
            "Adjusting learning rate of group 0 to 5.0000e-05.\n",
            "train Loss: 0.5707 Acc: 0.6912\n",
            "val Loss: 0.6803 Acc: 0.6533, AUC: 0.7148\n",
            "Epoch 1/19\n",
            "----------\n",
            "Adjusting learning rate of group 0 to 5.0000e-05.\n",
            "train Loss: 0.5083 Acc: 0.7506\n",
            "val Loss: 0.6850 Acc: 0.6400, AUC: 0.6886\n",
            "Epoch 2/19\n",
            "----------\n",
            "Adjusting learning rate of group 0 to 4.0000e-05.\n",
            "train Loss: 0.4721 Acc: 0.7714\n",
            "val Loss: 0.6787 Acc: 0.6400, AUC: 0.7071\n",
            "Epoch 3/19\n",
            "----------\n",
            "Adjusting learning rate of group 0 to 4.0000e-05.\n",
            "train Loss: 0.4234 Acc: 0.8048\n",
            "val Loss: 0.7432 Acc: 0.6133, AUC: 0.6823\n",
            "Epoch 4/19\n",
            "----------\n",
            "Adjusting learning rate of group 0 to 4.0000e-05.\n",
            "train Loss: 0.3658 Acc: 0.8405\n",
            "val Loss: 0.7779 Acc: 0.6367, AUC: 0.6964\n",
            "Epoch 5/19\n",
            "----------\n",
            "Adjusting learning rate of group 0 to 3.2000e-05.\n",
            "train Loss: 0.3104 Acc: 0.8748\n",
            "val Loss: 0.8527 Acc: 0.6267, AUC: 0.7020\n",
            "Epoch 6/19\n",
            "----------\n",
            "Adjusting learning rate of group 0 to 3.2000e-05.\n",
            "train Loss: 0.2487 Acc: 0.9022\n",
            "val Loss: 0.9969 Acc: 0.6467, AUC: 0.6890\n",
            "Epoch 7/19\n",
            "----------\n",
            "Adjusting learning rate of group 0 to 3.2000e-05.\n",
            "train Loss: 0.2017 Acc: 0.9142\n",
            "val Loss: 1.2122 Acc: 0.6667, AUC: 0.7074\n",
            "Epoch 8/19\n",
            "----------\n",
            "Adjusting learning rate of group 0 to 2.5600e-05.\n",
            "train Loss: 0.1471 Acc: 0.9448\n",
            "val Loss: 1.2403 Acc: 0.6467, AUC: 0.7043\n",
            "Epoch 9/19\n",
            "----------\n",
            "Adjusting learning rate of group 0 to 2.5600e-05.\n",
            "train Loss: 0.1259 Acc: 0.9499\n",
            "val Loss: 1.3828 Acc: 0.6133, AUC: 0.6843\n",
            "Epoch 10/19\n",
            "----------\n",
            "Adjusting learning rate of group 0 to 2.5600e-05.\n",
            "train Loss: 0.0918 Acc: 0.9662\n",
            "val Loss: 1.7602 Acc: 0.6433, AUC: 0.6659\n",
            "Epoch 11/19\n",
            "----------\n",
            "Adjusting learning rate of group 0 to 2.0480e-05.\n",
            "train Loss: 0.0761 Acc: 0.9694\n",
            "val Loss: 1.6380 Acc: 0.6367, AUC: 0.6867\n",
            "Epoch 12/19\n",
            "----------\n",
            "Adjusting learning rate of group 0 to 2.0480e-05.\n",
            "train Loss: 0.1080 Acc: 0.9629\n",
            "val Loss: 1.6211 Acc: 0.5600, AUC: 0.6433\n",
            "Epoch 13/19\n",
            "----------\n",
            "Adjusting learning rate of group 0 to 2.0480e-05.\n",
            "train Loss: 0.0724 Acc: 0.9708\n",
            "val Loss: 1.7159 Acc: 0.6533, AUC: 0.7002\n",
            "Epoch 14/19\n",
            "----------\n",
            "Adjusting learning rate of group 0 to 1.6384e-05.\n",
            "train Loss: 0.0637 Acc: 0.9750\n",
            "val Loss: 2.1098 Acc: 0.5933, AUC: 0.6404\n",
            "Epoch 15/19\n",
            "----------\n",
            "Adjusting learning rate of group 0 to 1.6384e-05.\n",
            "train Loss: 0.0674 Acc: 0.9736\n",
            "val Loss: 1.5440 Acc: 0.6167, AUC: 0.6756\n",
            "Epoch 16/19\n",
            "----------\n",
            "Adjusting learning rate of group 0 to 1.6384e-05.\n",
            "train Loss: 0.0409 Acc: 0.9866\n",
            "val Loss: 2.6881 Acc: 0.6367, AUC: 0.6761\n",
            "Epoch 17/19\n",
            "----------\n",
            "Adjusting learning rate of group 0 to 1.3107e-05.\n",
            "train Loss: 0.0452 Acc: 0.9824\n",
            "val Loss: 1.9322 Acc: 0.6067, AUC: 0.6762\n",
            "Epoch 18/19\n",
            "----------\n",
            "Adjusting learning rate of group 0 to 1.3107e-05.\n",
            "train Loss: 0.0678 Acc: 0.9754\n",
            "val Loss: 1.8450 Acc: 0.6167, AUC: 0.6782\n",
            "Epoch 19/19\n",
            "----------\n",
            "Adjusting learning rate of group 0 to 1.3107e-05.\n",
            "train Loss: 0.0343 Acc: 0.9870\n",
            "val Loss: 2.6014 Acc: 0.6467, AUC: 0.6717\n",
            "\n",
            "Training complete in 9m 17s\n",
            "Best val AUC:0.7148, Acc: 0.653333\n"
          ],
          "name": "stdout"
        }
      ]
    },
    {
      "cell_type": "code",
      "metadata": {
        "id": "H4L266CYd1P7"
      },
      "source": [
        "PATH = '/content/drive/MyDrive/DL_models/joint_vgg_model.pt'\n",
        "torch.save(model_ft.state_dict(), PATH)"
      ],
      "execution_count": 176,
      "outputs": []
    },
    {
      "cell_type": "code",
      "metadata": {
        "id": "G4E0mmMFd2BV"
      },
      "source": [
        ""
      ],
      "execution_count": null,
      "outputs": []
    },
    {
      "cell_type": "code",
      "metadata": {
        "id": "d6ac2OZxMgEU"
      },
      "source": [
        ""
      ],
      "execution_count": null,
      "outputs": []
    }
  ]
}
